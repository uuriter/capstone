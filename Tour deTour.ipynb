{
 "cells": [
  {
   "cell_type": "code",
   "execution_count": 1,
   "metadata": {
    "collapsed": true
   },
   "outputs": [],
   "source": [
    "origin = (13.7828824,100.4706708)\n",
    "destin = (13.7338328,100.5274467)"
   ]
  },
  {
   "cell_type": "markdown",
   "metadata": {},
   "source": [
    "# Get FourSquare Venues from Origin and Destination"
   ]
  },
  {
   "cell_type": "code",
   "execution_count": 2,
   "metadata": {
    "collapsed": true
   },
   "outputs": [],
   "source": []
  },
  {
   "cell_type": "code",
   "execution_count": 3,
   "metadata": {
    "collapsed": true
   },
   "outputs": [],
   "source": [
    "import requests\n",
    "import pandas as pd\n",
    "from pandas.io.json import json_normalize\n",
    "\n",
    "def get_category_type(row):\n",
    "    try:\n",
    "        categories_list = row['categories']\n",
    "    except:\n",
    "        categories_list = row['venue.categories']\n",
    "        \n",
    "    if len(categories_list) == 0:\n",
    "        return None\n",
    "    else:\n",
    "        return categories_list[0]['name']\n",
    "    \n",
    "def json2df(json):\n",
    "\tvenues = json['response']['groups'][0]['items']\n",
    "\tnv = json_normalize(venues) # flatten JSON\n",
    "\t# filter columns\n",
    "\tfiltered_columns = ['venue.name', 'venue.categories', 'venue.location.lat', 'venue.location.lng', 'venue.id',]\n",
    "\tnv = nv.loc[:, filtered_columns]\n",
    "\n",
    "\t# filter the category for each row\n",
    "\tnv['venue.categories'] = nv.apply(get_category_type, axis=1)\n",
    "\n",
    "\t# clean columns\n",
    "\tnv.columns = [col.split(\".\")[-1] for col in nv.columns]\n",
    "\n",
    "\tnv = nv[nv.categories != 'Multiplex']\n",
    "\tnv = nv[(nv.categories.str.contains('Theater')) == False]\n",
    "\treturn nv\n",
    "\n",
    "def call4sq(coord):\n",
    "\tVENUE_TYPE = 'explore'  # explore trending\n",
    "\tsection = 'arts'  # sights arts outdoors\n",
    "\tlat = coord[0]\n",
    "\tlng = coord[1]\n",
    "\tradius = 10000\n",
    "\tLIMIT = 100\n",
    "\n",
    "\turl = 'https://api.foursquare.com/v2/venues/{}?&client_id={}&client_secret={}&v={}&section={}&ll={},{}&radius={}&limit={}'.format(\n",
    "\t\tVENUE_TYPE,\n",
    "\t\tCLIENT_ID, \n",
    "\t\tCLIENT_SECRET, \n",
    "\t\tVERSION,\n",
    "\t\tsection,\n",
    "\t\tlat, \n",
    "\t\tlng, \n",
    "\t\tradius, \n",
    "\t\tLIMIT)\n",
    "\treturn requests.get(url).json()  "
   ]
  },
  {
   "cell_type": "code",
   "execution_count": 4,
   "metadata": {
    "collapsed": false
   },
   "outputs": [
    {
     "name": "stdout",
     "output_type": "stream",
     "text": [
      "(74, 4)\n",
      "(67, 4)\n"
     ]
    }
   ],
   "source": [
    "df1 = json2df(call4sq(origin)) # LPN P\n",
    "df2 = json2df(call4sq(destin)) # CU\n",
    "df1.set_index('id', inplace=True)\n",
    "df2.set_index('id', inplace=True)\n",
    "print(df1.shape)\n",
    "print(df2.shape)"
   ]
  },
  {
   "cell_type": "code",
   "execution_count": 5,
   "metadata": {
    "collapsed": false
   },
   "outputs": [
    {
     "name": "stdout",
     "output_type": "stream",
     "text": [
      "(89, 4)\n"
     ]
    },
    {
     "data": {
      "text/html": [
       "<div>\n",
       "<style scoped>\n",
       "    .dataframe tbody tr th:only-of-type {\n",
       "        vertical-align: middle;\n",
       "    }\n",
       "\n",
       "    .dataframe tbody tr th {\n",
       "        vertical-align: top;\n",
       "    }\n",
       "\n",
       "    .dataframe thead th {\n",
       "        text-align: right;\n",
       "    }\n",
       "</style>\n",
       "<table border=\"1\" class=\"dataframe\">\n",
       "  <thead>\n",
       "    <tr style=\"text-align: right;\">\n",
       "      <th></th>\n",
       "      <th>name</th>\n",
       "      <th>categories</th>\n",
       "      <th>lat</th>\n",
       "      <th>lng</th>\n",
       "    </tr>\n",
       "    <tr>\n",
       "      <th>id</th>\n",
       "      <th></th>\n",
       "      <th></th>\n",
       "      <th></th>\n",
       "      <th></th>\n",
       "    </tr>\n",
       "  </thead>\n",
       "  <tbody>\n",
       "    <tr>\n",
       "      <th>4dfb6e666284607895334ba5</th>\n",
       "      <td>Adhere the 13th Blues Bar</td>\n",
       "      <td>Jazz Club</td>\n",
       "      <td>13.763043</td>\n",
       "      <td>100.498839</td>\n",
       "    </tr>\n",
       "    <tr>\n",
       "      <th>52b6b6f1498e07724edcc2b4</th>\n",
       "      <td>Pipit Banglamphu (พิพิธบางลำพู)</td>\n",
       "      <td>History Museum</td>\n",
       "      <td>13.763533</td>\n",
       "      <td>100.496432</td>\n",
       "    </tr>\n",
       "    <tr>\n",
       "      <th>4d20393a0901721e6ffc90a5</th>\n",
       "      <td>พระที่นั่งพุทไธสวรรย์</td>\n",
       "      <td>History Museum</td>\n",
       "      <td>13.757895</td>\n",
       "      <td>100.492100</td>\n",
       "    </tr>\n",
       "    <tr>\n",
       "      <th>50c015c5e4b093aa4baf2ef9</th>\n",
       "      <td>Siriraj Phimukhsthan Museum (พิพิธภัณฑ์ศิริราช...</td>\n",
       "      <td>History Museum</td>\n",
       "      <td>13.759675</td>\n",
       "      <td>100.487052</td>\n",
       "    </tr>\n",
       "    <tr>\n",
       "      <th>4c8882ac94f5a093117fd01e</th>\n",
       "      <td>Princess Maha Chakri Sirindhorn Anthropology C...</td>\n",
       "      <td>History Museum</td>\n",
       "      <td>13.783951</td>\n",
       "      <td>100.458725</td>\n",
       "    </tr>\n",
       "  </tbody>\n",
       "</table>\n",
       "</div>"
      ],
      "text/plain": [
       "                                                                       name  \\\n",
       "id                                                                            \n",
       "4dfb6e666284607895334ba5                          Adhere the 13th Blues Bar   \n",
       "52b6b6f1498e07724edcc2b4                    Pipit Banglamphu (พิพิธบางลำพู)   \n",
       "4d20393a0901721e6ffc90a5                              พระที่นั่งพุทไธสวรรย์   \n",
       "50c015c5e4b093aa4baf2ef9  Siriraj Phimukhsthan Museum (พิพิธภัณฑ์ศิริราช...   \n",
       "4c8882ac94f5a093117fd01e  Princess Maha Chakri Sirindhorn Anthropology C...   \n",
       "\n",
       "                              categories        lat         lng  \n",
       "id                                                               \n",
       "4dfb6e666284607895334ba5       Jazz Club  13.763043  100.498839  \n",
       "52b6b6f1498e07724edcc2b4  History Museum  13.763533  100.496432  \n",
       "4d20393a0901721e6ffc90a5  History Museum  13.757895  100.492100  \n",
       "50c015c5e4b093aa4baf2ef9  History Museum  13.759675  100.487052  \n",
       "4c8882ac94f5a093117fd01e  History Museum  13.783951  100.458725  "
      ]
     },
     "execution_count": 5,
     "metadata": {},
     "output_type": "execute_result"
    }
   ],
   "source": [
    "df = pd.concat([df1, df2]).drop_duplicates()\n",
    "print(df.shape)\n",
    "df.head()"
   ]
  },
  {
   "cell_type": "markdown",
   "metadata": {},
   "source": [
    "# Calculate Detour Distance\n",
    "\n"
   ]
  },
  {
   "cell_type": "code",
   "execution_count": 6,
   "metadata": {
    "collapsed": false
   },
   "outputs": [
    {
     "name": "stdout",
     "output_type": "stream",
     "text": [
      "Requirement already up-to-date: googlemaps in ./common/.virtualenv/python3/lib/python3.5/site-packages (3.0.2)\n",
      "Requirement already satisfied, skipping upgrade: requests<3.0,>=2.11.1 in ./common/.virtualenv/python3/lib/python3.5/site-packages (from googlemaps) (2.19.1)\n",
      "Requirement already satisfied, skipping upgrade: certifi>=2017.4.17 in ./common/.virtualenv/python3/lib/python3.5/site-packages (from requests<3.0,>=2.11.1->googlemaps) (2018.8.24)\n",
      "Requirement already satisfied, skipping upgrade: urllib3<1.24,>=1.21.1 in ./common/.virtualenv/python3/lib/python3.5/site-packages (from requests<3.0,>=2.11.1->googlemaps) (1.23)\n",
      "Requirement already satisfied, skipping upgrade: chardet<3.1.0,>=3.0.2 in ./common/.virtualenv/python3/lib/python3.5/site-packages (from requests<3.0,>=2.11.1->googlemaps) (3.0.4)\n",
      "Requirement already satisfied, skipping upgrade: idna<2.8,>=2.5 in ./common/.virtualenv/python3/lib/python3.5/site-packages (from requests<3.0,>=2.11.1->googlemaps) (2.7)\n"
     ]
    }
   ],
   "source": [
    "!pip install -U googlemaps"
   ]
  },
  {
   "cell_type": "code",
   "execution_count": 7,
   "metadata": {
    "collapsed": true
   },
   "outputs": [],
   "source": [
    "import googlemaps\n",
    "\n",
    "gmaps = googlemaps.Client(key=GOOGLE_KEY)"
   ]
  },
  {
   "cell_type": "code",
   "execution_count": 8,
   "metadata": {
    "collapsed": true
   },
   "outputs": [],
   "source": [
    "# Geocoding an address\n",
    "def dist_dura(a, b):\n",
    "    result = gmaps.distance_matrix(a, b, 'driving')\n",
    "    return (int(result['rows'][0]['elements'][0]['distance']['value']), \n",
    "            int(result['rows'][0]['elements'][0]['duration']['value']))\n",
    "\n",
    "def detour_dist_dura(venue, origin, destin):\n",
    "    origin = '{},{}'.format(origin[0], origin[1])\n",
    "    destin = '{},{}'.format(destin[0], destin[1])\n",
    "    r0 = dist_dura(origin, venue) \n",
    "    r1 = dist_dura(venue, destin)\n",
    "    return (r0[0] + r1[0], r0[1] + r1[1])"
   ]
  },
  {
   "cell_type": "code",
   "execution_count": 9,
   "metadata": {
    "collapsed": false
   },
   "outputs": [
    {
     "data": {
      "text/plain": [
       "id\n",
       "4dfb6e666284607895334ba5    (12609, 1856)\n",
       "52b6b6f1498e07724edcc2b4    (12382, 1804)\n",
       "4d20393a0901721e6ffc90a5    (13827, 2195)\n",
       "50c015c5e4b093aa4baf2ef9    (16660, 2100)\n",
       "4c8882ac94f5a093117fd01e    (16863, 1650)\n",
       "dtype: object"
      ]
     },
     "execution_count": 9,
     "metadata": {},
     "output_type": "execute_result"
    }
   ],
   "source": [
    "s = df.lat.astype(str) + ',' + df.lng.astype(str)\n",
    "s = s.apply(detour_dist_dura, args=(origin, destin))\n",
    "s.head()"
   ]
  },
  {
   "cell_type": "code",
   "execution_count": 10,
   "metadata": {
    "collapsed": false
   },
   "outputs": [
    {
     "data": {
      "text/html": [
       "<div>\n",
       "<style scoped>\n",
       "    .dataframe tbody tr th:only-of-type {\n",
       "        vertical-align: middle;\n",
       "    }\n",
       "\n",
       "    .dataframe tbody tr th {\n",
       "        vertical-align: top;\n",
       "    }\n",
       "\n",
       "    .dataframe thead th {\n",
       "        text-align: right;\n",
       "    }\n",
       "</style>\n",
       "<table border=\"1\" class=\"dataframe\">\n",
       "  <thead>\n",
       "    <tr style=\"text-align: right;\">\n",
       "      <th></th>\n",
       "      <th>name</th>\n",
       "      <th>categories</th>\n",
       "      <th>lat</th>\n",
       "      <th>lng</th>\n",
       "      <th>distance</th>\n",
       "      <th>duration</th>\n",
       "    </tr>\n",
       "    <tr>\n",
       "      <th>id</th>\n",
       "      <th></th>\n",
       "      <th></th>\n",
       "      <th></th>\n",
       "      <th></th>\n",
       "      <th></th>\n",
       "      <th></th>\n",
       "    </tr>\n",
       "  </thead>\n",
       "  <tbody>\n",
       "    <tr>\n",
       "      <th>4dd0d8c1c65bdac7139b737e</th>\n",
       "      <td>Grasshopper Adventures</td>\n",
       "      <td>Tour Provider</td>\n",
       "      <td>13.757171</td>\n",
       "      <td>100.500193</td>\n",
       "      <td>12682</td>\n",
       "      <td>1507</td>\n",
       "    </tr>\n",
       "    <tr>\n",
       "      <th>4b0587faf964a5204aaa22e3</th>\n",
       "      <td>หอศิลป์ สมเด็จพระนางเจ้าสิริกิติ์ พระบรมราชินี...</td>\n",
       "      <td>Art Gallery</td>\n",
       "      <td>13.756267</td>\n",
       "      <td>100.504884</td>\n",
       "      <td>12682</td>\n",
       "      <td>1508</td>\n",
       "    </tr>\n",
       "    <tr>\n",
       "      <th>4d61b57a29ef236acb38b459</th>\n",
       "      <td>Dusit Zoo Gallery</td>\n",
       "      <td>Art Gallery</td>\n",
       "      <td>13.774097</td>\n",
       "      <td>100.517401</td>\n",
       "      <td>14026</td>\n",
       "      <td>1601</td>\n",
       "    </tr>\n",
       "    <tr>\n",
       "      <th>4fcb2c67e4b023688a07e1d4</th>\n",
       "      <td>Reptile Exhibit (ห้องแสดงสัตว์เลื้อยคลาน)</td>\n",
       "      <td>Zoo Exhibit</td>\n",
       "      <td>13.772691</td>\n",
       "      <td>100.518013</td>\n",
       "      <td>14058</td>\n",
       "      <td>1611</td>\n",
       "    </tr>\n",
       "    <tr>\n",
       "      <th>4f10ce5ce4b0042053b4bb63</th>\n",
       "      <td>พิพิธภัณฑ์สำนักงานตำรวจแห่งชาติ</td>\n",
       "      <td>Museum</td>\n",
       "      <td>13.768063</td>\n",
       "      <td>100.510269</td>\n",
       "      <td>13636</td>\n",
       "      <td>1634</td>\n",
       "    </tr>\n",
       "  </tbody>\n",
       "</table>\n",
       "</div>"
      ],
      "text/plain": [
       "                                                                       name  \\\n",
       "id                                                                            \n",
       "4dd0d8c1c65bdac7139b737e                             Grasshopper Adventures   \n",
       "4b0587faf964a5204aaa22e3  หอศิลป์ สมเด็จพระนางเจ้าสิริกิติ์ พระบรมราชินี...   \n",
       "4d61b57a29ef236acb38b459                                  Dusit Zoo Gallery   \n",
       "4fcb2c67e4b023688a07e1d4          Reptile Exhibit (ห้องแสดงสัตว์เลื้อยคลาน)   \n",
       "4f10ce5ce4b0042053b4bb63                    พิพิธภัณฑ์สำนักงานตำรวจแห่งชาติ   \n",
       "\n",
       "                             categories        lat         lng  distance  \\\n",
       "id                                                                         \n",
       "4dd0d8c1c65bdac7139b737e  Tour Provider  13.757171  100.500193     12682   \n",
       "4b0587faf964a5204aaa22e3    Art Gallery  13.756267  100.504884     12682   \n",
       "4d61b57a29ef236acb38b459    Art Gallery  13.774097  100.517401     14026   \n",
       "4fcb2c67e4b023688a07e1d4    Zoo Exhibit  13.772691  100.518013     14058   \n",
       "4f10ce5ce4b0042053b4bb63         Museum  13.768063  100.510269     13636   \n",
       "\n",
       "                          duration  \n",
       "id                                  \n",
       "4dd0d8c1c65bdac7139b737e      1507  \n",
       "4b0587faf964a5204aaa22e3      1508  \n",
       "4d61b57a29ef236acb38b459      1601  \n",
       "4fcb2c67e4b023688a07e1d4      1611  \n",
       "4f10ce5ce4b0042053b4bb63      1634  "
      ]
     },
     "execution_count": 10,
     "metadata": {},
     "output_type": "execute_result"
    }
   ],
   "source": [
    "df['distance'] = s.apply(lambda x : x[0])\n",
    "df['duration'] = s.apply(lambda x : x[1])\n",
    "df.sort_values('duration', inplace=True)\n",
    "df.head()"
   ]
  },
  {
   "cell_type": "code",
   "execution_count": 11,
   "metadata": {
    "collapsed": false
   },
   "outputs": [],
   "source": [
    "distance, duration = dist_dura('{},{}'.format(origin[0], origin[1]), '{},{}'.format(destin[0], destin[1]))\n",
    "df['dt_min'] = (df['duration'] - duration) / 60"
   ]
  },
  {
   "cell_type": "markdown",
   "metadata": {
    "collapsed": false
   },
   "source": [
    "# Interactive"
   ]
  },
  {
   "cell_type": "code",
   "execution_count": 12,
   "metadata": {
    "collapsed": true
   },
   "outputs": [],
   "source": [
    "from ipywidgets import interact"
   ]
  },
  {
   "cell_type": "code",
   "execution_count": 13,
   "metadata": {
    "collapsed": false
   },
   "outputs": [],
   "source": [
    "def detour(minutes):  # detour(5)  0 to 5 minutes detour\n",
    "    f1 = (df.duration - duration) < minutes * 60\n",
    "    f2 = (minutes - 5) * 60 < (df.duration - duration)\n",
    "    return df[f1 & f2]"
   ]
  },
  {
   "cell_type": "markdown",
   "metadata": {},
   "source": [
    "# Visualization"
   ]
  },
  {
   "cell_type": "code",
   "execution_count": 14,
   "metadata": {
    "collapsed": false
   },
   "outputs": [
    {
     "name": "stdout",
     "output_type": "stream",
     "text": [
      "Requirement already satisfied: folium in ./common/.virtualenv/python3/lib/python3.5/site-packages (0.6.0)\n",
      "Requirement already satisfied: numpy in /usr/local/lib/python3.5/dist-packages (from folium) (1.14.5)\n",
      "Requirement already satisfied: requests in ./common/.virtualenv/python3/lib/python3.5/site-packages (from folium) (2.19.1)\n",
      "Requirement already satisfied: six in /usr/local/lib/python3.5/dist-packages (from folium) (1.11.0)\n",
      "Requirement already satisfied: branca>=0.3.0 in ./common/.virtualenv/python3/lib/python3.5/site-packages (from folium) (0.3.0)\n",
      "Requirement already satisfied: jinja2 in /usr/local/lib/python3.5/dist-packages (from folium) (2.8)\n",
      "Requirement already satisfied: certifi>=2017.4.17 in ./common/.virtualenv/python3/lib/python3.5/site-packages (from requests->folium) (2018.8.24)\n",
      "Requirement already satisfied: idna<2.8,>=2.5 in ./common/.virtualenv/python3/lib/python3.5/site-packages (from requests->folium) (2.7)\n",
      "Requirement already satisfied: urllib3<1.24,>=1.21.1 in ./common/.virtualenv/python3/lib/python3.5/site-packages (from requests->folium) (1.23)\n",
      "Requirement already satisfied: chardet<3.1.0,>=3.0.2 in ./common/.virtualenv/python3/lib/python3.5/site-packages (from requests->folium) (3.0.4)\n",
      "Requirement already satisfied: MarkupSafe in /usr/local/lib/python3.5/dist-packages (from jinja2->folium) (0.23)\n"
     ]
    }
   ],
   "source": [
    "#!conda install -c conda-forge folium=0.5.0 --yes \n",
    "!pip install folium"
   ]
  },
  {
   "cell_type": "code",
   "execution_count": 15,
   "metadata": {
    "collapsed": true
   },
   "outputs": [],
   "source": [
    "import folium # map rendering library"
   ]
  },
  {
   "cell_type": "code",
   "execution_count": 16,
   "metadata": {
    "collapsed": false,
    "scrolled": false
   },
   "outputs": [
    {
     "name": "stdout",
     "output_type": "stream",
     "text": [
      "(4, 7)\n"
     ]
    },
    {
     "data": {
      "text/html": [
       "<div style=\"width:100%;\"><div style=\"position:relative;width:100%;height:0;padding-bottom:60%;\"><iframe src=\"data:text/html;charset=utf-8;base64,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\" style=\"position:absolute;width:100%;height:100%;left:0;top:0;border:none !important;\" allowfullscreen webkitallowfullscreen mozallowfullscreen></iframe></div></div>"
      ],
      "text/plain": [
       "<folium.folium.Map at 0x7fa631810a20>"
      ]
     },
     "metadata": {},
     "output_type": "display_data"
    },
    {
     "data": {
      "text/plain": [
       "<function __main__.draw_map>"
      ]
     },
     "execution_count": 16,
     "metadata": {},
     "output_type": "execute_result"
    }
   ],
   "source": [
    "# find the center\n",
    "def add_marker(mp, lat, lng, label):\n",
    "    folium.CircleMarker(\n",
    "        [lat, lng],\n",
    "        radius=5,\n",
    "        popup=label,\n",
    "        color='blue',\n",
    "        fill=True,\n",
    "        fill_color='#3186cc',\n",
    "        fill_opacity=0.7).add_to(mp)\n",
    "\n",
    "\n",
    "def draw_map(minutes):\n",
    "    center_lat = (origin[0] + destin[0]) / 2\n",
    "    center_lng = (origin[1] + destin[1]) / 2\n",
    "    mp = folium.Map(location=[center_lat, center_lng], zoom_start=13)\n",
    "\n",
    "    add_marker(mp, origin[0], origin[1], \"Origin\")\n",
    "    add_marker(mp, destin[0], destin[1], \"Destination\")\n",
    "    \n",
    "    dtdf = detour(minutes)\n",
    "    \n",
    "    print(dtdf.shape)\n",
    "    dtdf.apply(lambda row : folium.CircleMarker(\n",
    "        [row['lat'], row['lng']],\n",
    "        radius=5,\n",
    "        popup='{} [{:.2f} mins]'.format(row['name'][0:32].replace(\"'\", ' '), row['dt_min']),\n",
    "        color='red',\n",
    "        fill=True,\n",
    "        fill_color='#3186cc',\n",
    "        fill_opacity=0.7).add_to(mp), axis=1)\n",
    "                          \n",
    "    return mp\n",
    "         \n",
    "interact(draw_map, minutes=(5, 60, 5))"
   ]
  }
 ],
 "metadata": {
  "kernelspec": {
   "display_name": "Python 3",
   "language": "python",
   "name": "python3"
  },
  "language_info": {
   "codemirror_mode": {
    "name": "ipython",
    "version": 3
   },
   "file_extension": ".py",
   "mimetype": "text/x-python",
   "name": "python",
   "nbconvert_exporter": "python",
   "pygments_lexer": "ipython3",
   "version": "3.5.2"
  },
  "widgets": {
   "state": {
    "15378f12913c4bd2b5d026823adf5798": {
     "views": []
    },
    "185c27b67d1e4e3d9ec88fe0d371a03d": {
     "views": []
    },
    "292dbefd11dc462ea001589a114498ad": {
     "views": []
    },
    "2be039efc72e4951841b1399875d544f": {
     "views": []
    },
    "4f3451028c8a4cb4aa53c9f0c2c47505": {
     "views": []
    },
    "4f3666a5bafb4168a01d503205c9c738": {
     "views": []
    },
    "7a4fa2f938ec40719b8f9a986a5f70a2": {
     "views": []
    },
    "7e9204a4d83e40189228eb9bc674846f": {
     "views": []
    },
    "a4f24628c66a4cd78deb88a02230f8da": {
     "views": []
    },
    "af102a01ea8b42d694e637a38c34add4": {
     "views": []
    },
    "ba512d07931f4478904b9b7f68078b5b": {
     "views": []
    },
    "c573bd6928834310a2f8c2adb0b8b74f": {
     "views": [
      {
       "cell_index": 19
      }
     ]
    }
   },
   "version": "1.1.2"
  }
 },
 "nbformat": 4,
 "nbformat_minor": 2
}
