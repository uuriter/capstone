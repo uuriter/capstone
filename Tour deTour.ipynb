{
 "cells": [
  {
   "cell_type": "markdown",
   "metadata": {
    "collapsed": true
   },
   "source": [
    "# Set Origin and Destination\n",
    "\n",
    "Set the origin and the destination of usual route."
   ]
  },
  {
   "cell_type": "code",
   "execution_count": 1,
   "metadata": {
    "collapsed": true
   },
   "outputs": [],
   "source": [
    "origin = (13.7828824,100.4706708)\n",
    "destin = (13.7338328,100.5274467)"
   ]
  },
  {
   "cell_type": "markdown",
   "metadata": {},
   "source": [
    "# Get FourSquare Venues from Origin and Destination"
   ]
  },
  {
   "cell_type": "markdown",
   "metadata": {},
   "source": [
    "FourSquare API Key"
   ]
  },
  {
   "cell_type": "code",
   "execution_count": 2,
   "metadata": {
    "collapsed": true
   },
   "outputs": [],
   "source": [
    "# secret key\n",
    "CLIENT_ID = '' # your Foursquare ID\n",
    "CLIENT_SECRET = '' # your Foursquare Secret\n",
    "VERSION = '20180605' # Foursquare API version\n",
    "\n",
    "GOOGLE_KEY = ''"
   ]
  },
  {
   "cell_type": "code",
   "execution_count": 3,
   "metadata": {
    "collapsed": true
   },
   "outputs": [],
   "source": [
    "# function for calling FourSquare API\n",
    "\n",
    "import requests\n",
    "\n",
    "def call4sq(coord):\n",
    "\tVENUE_TYPE = 'explore'  # explore trending\n",
    "\tsection = 'arts'  # sights arts outdoors\n",
    "\tlat = coord[0]\n",
    "\tlng = coord[1]\n",
    "\tradius = 10000\n",
    "\tLIMIT = 100\n",
    "\n",
    "\turl = 'https://api.foursquare.com/v2/venues/{}?&client_id={}&client_secret={}&v={}&section={}&ll={},{}&radius={}&limit={}'.format(\n",
    "\t\tVENUE_TYPE,\n",
    "\t\tCLIENT_ID, \n",
    "\t\tCLIENT_SECRET, \n",
    "\t\tVERSION,\n",
    "\t\tsection,\n",
    "\t\tlat, \n",
    "\t\tlng, \n",
    "\t\tradius, \n",
    "\t\tLIMIT)\n",
    "\treturn requests.get(url).json()  "
   ]
  },
  {
   "cell_type": "code",
   "execution_count": 4,
   "metadata": {
    "collapsed": true
   },
   "outputs": [],
   "source": [
    "# function for converting JSON to DataFrame\n",
    "\n",
    "import pandas as pd\n",
    "from pandas.io.json import json_normalize\n",
    "\n",
    "def get_category_type(row):\n",
    "    try:\n",
    "        categories_list = row['categories']\n",
    "    except:\n",
    "        categories_list = row['venue.categories']\n",
    "        \n",
    "    if len(categories_list) == 0:\n",
    "        return None\n",
    "    else:\n",
    "        return categories_list[0]['name']\n",
    "    \n",
    "def json2df(json):\n",
    "\tvenues = json['response']['groups'][0]['items']\n",
    "\tnv = json_normalize(venues) # flatten JSON\n",
    "\t# filter columns\n",
    "\tfiltered_columns = ['venue.name', 'venue.categories', 'venue.location.lat', 'venue.location.lng', 'venue.id',]\n",
    "\tnv = nv.loc[:, filtered_columns]\n",
    "\n",
    "\t# filter the category for each row\n",
    "\tnv['venue.categories'] = nv.apply(get_category_type, axis=1)\n",
    "\n",
    "\t# clean columns\n",
    "\tnv.columns = [col.split(\".\")[-1] for col in nv.columns]\n",
    "\n",
    "\tnv = nv[nv.categories != 'Multiplex']\n",
    "\tnv = nv[(nv.categories.str.contains('Theater')) == False]\n",
    "\treturn nv"
   ]
  },
  {
   "cell_type": "markdown",
   "metadata": {},
   "source": [
    "Find venues near the origin and the destination.  Combine the result into one DataFrame."
   ]
  },
  {
   "cell_type": "code",
   "execution_count": 5,
   "metadata": {
    "collapsed": false
   },
   "outputs": [
    {
     "name": "stdout",
     "output_type": "stream",
     "text": [
      "(74, 4)\n",
      "(67, 4)\n"
     ]
    }
   ],
   "source": [
    "df1 = json2df(call4sq(origin)) # LPN P\n",
    "df2 = json2df(call4sq(destin)) # CU\n",
    "df1.set_index('id', inplace=True)\n",
    "df2.set_index('id', inplace=True)\n",
    "print(df1.shape)\n",
    "print(df2.shape)"
   ]
  },
  {
   "cell_type": "code",
   "execution_count": 6,
   "metadata": {
    "collapsed": false
   },
   "outputs": [
    {
     "name": "stdout",
     "output_type": "stream",
     "text": [
      "(89, 4)\n"
     ]
    },
    {
     "data": {
      "text/html": [
       "<div>\n",
       "<style scoped>\n",
       "    .dataframe tbody tr th:only-of-type {\n",
       "        vertical-align: middle;\n",
       "    }\n",
       "\n",
       "    .dataframe tbody tr th {\n",
       "        vertical-align: top;\n",
       "    }\n",
       "\n",
       "    .dataframe thead th {\n",
       "        text-align: right;\n",
       "    }\n",
       "</style>\n",
       "<table border=\"1\" class=\"dataframe\">\n",
       "  <thead>\n",
       "    <tr style=\"text-align: right;\">\n",
       "      <th></th>\n",
       "      <th>name</th>\n",
       "      <th>categories</th>\n",
       "      <th>lat</th>\n",
       "      <th>lng</th>\n",
       "    </tr>\n",
       "    <tr>\n",
       "      <th>id</th>\n",
       "      <th></th>\n",
       "      <th></th>\n",
       "      <th></th>\n",
       "      <th></th>\n",
       "    </tr>\n",
       "  </thead>\n",
       "  <tbody>\n",
       "    <tr>\n",
       "      <th>4dfb6e666284607895334ba5</th>\n",
       "      <td>Adhere the 13th Blues Bar</td>\n",
       "      <td>Jazz Club</td>\n",
       "      <td>13.763043</td>\n",
       "      <td>100.498839</td>\n",
       "    </tr>\n",
       "    <tr>\n",
       "      <th>52b6b6f1498e07724edcc2b4</th>\n",
       "      <td>Pipit Banglamphu (พิพิธบางลำพู)</td>\n",
       "      <td>History Museum</td>\n",
       "      <td>13.763533</td>\n",
       "      <td>100.496432</td>\n",
       "    </tr>\n",
       "    <tr>\n",
       "      <th>4d20393a0901721e6ffc90a5</th>\n",
       "      <td>พระที่นั่งพุทไธสวรรย์</td>\n",
       "      <td>History Museum</td>\n",
       "      <td>13.757895</td>\n",
       "      <td>100.492100</td>\n",
       "    </tr>\n",
       "    <tr>\n",
       "      <th>50c015c5e4b093aa4baf2ef9</th>\n",
       "      <td>Siriraj Phimukhsthan Museum (พิพิธภัณฑ์ศิริราช...</td>\n",
       "      <td>History Museum</td>\n",
       "      <td>13.759675</td>\n",
       "      <td>100.487052</td>\n",
       "    </tr>\n",
       "    <tr>\n",
       "      <th>4c8882ac94f5a093117fd01e</th>\n",
       "      <td>Princess Maha Chakri Sirindhorn Anthropology C...</td>\n",
       "      <td>History Museum</td>\n",
       "      <td>13.783951</td>\n",
       "      <td>100.458725</td>\n",
       "    </tr>\n",
       "  </tbody>\n",
       "</table>\n",
       "</div>"
      ],
      "text/plain": [
       "                                                                       name  \\\n",
       "id                                                                            \n",
       "4dfb6e666284607895334ba5                          Adhere the 13th Blues Bar   \n",
       "52b6b6f1498e07724edcc2b4                    Pipit Banglamphu (พิพิธบางลำพู)   \n",
       "4d20393a0901721e6ffc90a5                              พระที่นั่งพุทไธสวรรย์   \n",
       "50c015c5e4b093aa4baf2ef9  Siriraj Phimukhsthan Museum (พิพิธภัณฑ์ศิริราช...   \n",
       "4c8882ac94f5a093117fd01e  Princess Maha Chakri Sirindhorn Anthropology C...   \n",
       "\n",
       "                              categories        lat         lng  \n",
       "id                                                               \n",
       "4dfb6e666284607895334ba5       Jazz Club  13.763043  100.498839  \n",
       "52b6b6f1498e07724edcc2b4  History Museum  13.763533  100.496432  \n",
       "4d20393a0901721e6ffc90a5  History Museum  13.757895  100.492100  \n",
       "50c015c5e4b093aa4baf2ef9  History Museum  13.759675  100.487052  \n",
       "4c8882ac94f5a093117fd01e  History Museum  13.783951  100.458725  "
      ]
     },
     "execution_count": 6,
     "metadata": {},
     "output_type": "execute_result"
    }
   ],
   "source": [
    "df = pd.concat([df1, df2]).drop_duplicates()\n",
    "print(df.shape)\n",
    "df.head()"
   ]
  },
  {
   "cell_type": "markdown",
   "metadata": {},
   "source": [
    "# Calculate Detour Distance\n",
    "\n"
   ]
  },
  {
   "cell_type": "code",
   "execution_count": 7,
   "metadata": {
    "collapsed": false
   },
   "outputs": [
    {
     "name": "stdout",
     "output_type": "stream",
     "text": [
      "Collecting googlemaps\n",
      "  Downloading https://files.pythonhosted.org/packages/5a/3d/13b4230f3c1b8a586cdc8d8179f3c6af771c11247f8de9c166d1ab37f51d/googlemaps-3.0.2.tar.gz\n",
      "Collecting requests<3.0,>=2.11.1 (from googlemaps)\n",
      "\u001b[?25l  Downloading https://files.pythonhosted.org/packages/65/47/7e02164a2a3db50ed6d8a6ab1d6d60b69c4c3fdf57a284257925dfc12bda/requests-2.19.1-py2.py3-none-any.whl (91kB)\n",
      "\u001b[K    100% |████████████████████████████████| 92kB 17.0MB/s \n",
      "\u001b[?25hCollecting certifi>=2017.4.17 (from requests<3.0,>=2.11.1->googlemaps)\n",
      "\u001b[?25l  Downloading https://files.pythonhosted.org/packages/df/f7/04fee6ac349e915b82171f8e23cee63644d83663b34c539f7a09aed18f9e/certifi-2018.8.24-py2.py3-none-any.whl (147kB)\n",
      "\u001b[K    100% |████████████████████████████████| 153kB 20.5MB/s \n",
      "\u001b[?25hCollecting idna<2.8,>=2.5 (from requests<3.0,>=2.11.1->googlemaps)\n",
      "\u001b[?25l  Downloading https://files.pythonhosted.org/packages/4b/2a/0276479a4b3caeb8a8c1af2f8e4355746a97fab05a372e4a2c6a6b876165/idna-2.7-py2.py3-none-any.whl (58kB)\n",
      "\u001b[K    100% |████████████████████████████████| 61kB 16.9MB/s \n",
      "\u001b[?25hCollecting urllib3<1.24,>=1.21.1 (from requests<3.0,>=2.11.1->googlemaps)\n",
      "\u001b[?25l  Downloading https://files.pythonhosted.org/packages/bd/c9/6fdd990019071a4a32a5e7cb78a1d92c53851ef4f56f62a3486e6a7d8ffb/urllib3-1.23-py2.py3-none-any.whl (133kB)\n",
      "\u001b[K    100% |████████████████████████████████| 143kB 24.8MB/s \n",
      "\u001b[?25hCollecting chardet<3.1.0,>=3.0.2 (from requests<3.0,>=2.11.1->googlemaps)\n",
      "\u001b[?25l  Downloading https://files.pythonhosted.org/packages/bc/a9/01ffebfb562e4274b6487b4bb1ddec7ca55ec7510b22e4c51f14098443b8/chardet-3.0.4-py2.py3-none-any.whl (133kB)\n",
      "\u001b[K    100% |████████████████████████████████| 143kB 25.1MB/s \n",
      "\u001b[?25hBuilding wheels for collected packages: googlemaps\n",
      "  Running setup.py bdist_wheel for googlemaps ... \u001b[?25l-\b \b\\\b \bdone\n",
      "\u001b[?25h  Stored in directory: /home/notebook/.cache/pip/wheels/3c/3f/25/ce6d7722dba07e5d4a12d27ab38f3d7add65ef43171b02c819\n",
      "Successfully built googlemaps\n",
      "Installing collected packages: certifi, idna, urllib3, chardet, requests, googlemaps\n",
      "  Found existing installation: idna 2.1\n",
      "    Not uninstalling idna at /usr/local/lib/python3.5/dist-packages, outside environment /resources/common/.virtualenv/python3\n",
      "    Can't uninstall 'idna'. No files were found to uninstall.\n",
      "  Found existing installation: urllib3 1.7.1\n",
      "    Not uninstalling urllib3 at /usr/local/lib/python3.5/dist-packages, outside environment /resources/common/.virtualenv/python3\n",
      "    Can't uninstall 'urllib3'. No files were found to uninstall.\n",
      "  Found existing installation: chardet 2.2.1\n",
      "    Not uninstalling chardet at /usr/local/lib/python3.5/dist-packages, outside environment /resources/common/.virtualenv/python3\n",
      "    Can't uninstall 'chardet'. No files were found to uninstall.\n",
      "  Found existing installation: requests 2.11.0\n",
      "    Not uninstalling requests at /usr/local/lib/python3.5/dist-packages, outside environment /resources/common/.virtualenv/python3\n",
      "    Can't uninstall 'requests'. No files were found to uninstall.\n",
      "Successfully installed certifi-2018.8.24 chardet-3.0.4 googlemaps-3.0.2 idna-2.7 requests-2.19.1 urllib3-1.23\n"
     ]
    }
   ],
   "source": [
    "!pip install -U googlemaps"
   ]
  },
  {
   "cell_type": "code",
   "execution_count": 8,
   "metadata": {
    "collapsed": true
   },
   "outputs": [],
   "source": [
    "import googlemaps\n",
    "\n",
    "gmaps = googlemaps.Client(key=GOOGLE_KEY)"
   ]
  },
  {
   "cell_type": "code",
   "execution_count": 9,
   "metadata": {
    "collapsed": true
   },
   "outputs": [],
   "source": [
    "# find distance and duration\n",
    "def dist_dura(a, b):\n",
    "    result = gmaps.distance_matrix(a, b, 'driving')\n",
    "    return (int(result['rows'][0]['elements'][0]['distance']['value']), \n",
    "            int(result['rows'][0]['elements'][0]['duration']['value']))\n",
    "\n",
    "# find detour distance and duration\n",
    "def detour_dist_dura(venue, origin, destin):\n",
    "    origin = '{},{}'.format(origin[0], origin[1])\n",
    "    destin = '{},{}'.format(destin[0], destin[1])\n",
    "    r0 = dist_dura(origin, venue) \n",
    "    r1 = dist_dura(venue, destin)\n",
    "    return (r0[0] + r1[0], r0[1] + r1[1])"
   ]
  },
  {
   "cell_type": "markdown",
   "metadata": {},
   "source": [
    "Find detour distance and duration of all rows."
   ]
  },
  {
   "cell_type": "code",
   "execution_count": 10,
   "metadata": {
    "collapsed": false
   },
   "outputs": [
    {
     "data": {
      "text/plain": [
       "id\n",
       "4dfb6e666284607895334ba5    (12609, 1856)\n",
       "52b6b6f1498e07724edcc2b4    (12382, 1804)\n",
       "4d20393a0901721e6ffc90a5    (13827, 2195)\n",
       "50c015c5e4b093aa4baf2ef9    (16660, 2100)\n",
       "4c8882ac94f5a093117fd01e    (16863, 1650)\n",
       "dtype: object"
      ]
     },
     "execution_count": 10,
     "metadata": {},
     "output_type": "execute_result"
    }
   ],
   "source": [
    "s = df.lat.astype(str) + ',' + df.lng.astype(str)\n",
    "s = s.apply(detour_dist_dura, args=(origin, destin))\n",
    "s.head()"
   ]
  },
  {
   "cell_type": "markdown",
   "metadata": {},
   "source": [
    "Append the distances and durations to the DataFrame"
   ]
  },
  {
   "cell_type": "code",
   "execution_count": 11,
   "metadata": {
    "collapsed": false
   },
   "outputs": [
    {
     "data": {
      "text/html": [
       "<div>\n",
       "<style scoped>\n",
       "    .dataframe tbody tr th:only-of-type {\n",
       "        vertical-align: middle;\n",
       "    }\n",
       "\n",
       "    .dataframe tbody tr th {\n",
       "        vertical-align: top;\n",
       "    }\n",
       "\n",
       "    .dataframe thead th {\n",
       "        text-align: right;\n",
       "    }\n",
       "</style>\n",
       "<table border=\"1\" class=\"dataframe\">\n",
       "  <thead>\n",
       "    <tr style=\"text-align: right;\">\n",
       "      <th></th>\n",
       "      <th>name</th>\n",
       "      <th>categories</th>\n",
       "      <th>lat</th>\n",
       "      <th>lng</th>\n",
       "      <th>distance</th>\n",
       "      <th>duration</th>\n",
       "    </tr>\n",
       "    <tr>\n",
       "      <th>id</th>\n",
       "      <th></th>\n",
       "      <th></th>\n",
       "      <th></th>\n",
       "      <th></th>\n",
       "      <th></th>\n",
       "      <th></th>\n",
       "    </tr>\n",
       "  </thead>\n",
       "  <tbody>\n",
       "    <tr>\n",
       "      <th>4dd0d8c1c65bdac7139b737e</th>\n",
       "      <td>Grasshopper Adventures</td>\n",
       "      <td>Tour Provider</td>\n",
       "      <td>13.757171</td>\n",
       "      <td>100.500193</td>\n",
       "      <td>12682</td>\n",
       "      <td>1507</td>\n",
       "    </tr>\n",
       "    <tr>\n",
       "      <th>4b0587faf964a5204aaa22e3</th>\n",
       "      <td>หอศิลป์ สมเด็จพระนางเจ้าสิริกิติ์ พระบรมราชินี...</td>\n",
       "      <td>Art Gallery</td>\n",
       "      <td>13.756267</td>\n",
       "      <td>100.504884</td>\n",
       "      <td>12682</td>\n",
       "      <td>1508</td>\n",
       "    </tr>\n",
       "    <tr>\n",
       "      <th>4d61b57a29ef236acb38b459</th>\n",
       "      <td>Dusit Zoo Gallery</td>\n",
       "      <td>Art Gallery</td>\n",
       "      <td>13.774097</td>\n",
       "      <td>100.517401</td>\n",
       "      <td>14026</td>\n",
       "      <td>1601</td>\n",
       "    </tr>\n",
       "    <tr>\n",
       "      <th>4fcb2c67e4b023688a07e1d4</th>\n",
       "      <td>Reptile Exhibit (ห้องแสดงสัตว์เลื้อยคลาน)</td>\n",
       "      <td>Zoo Exhibit</td>\n",
       "      <td>13.772691</td>\n",
       "      <td>100.518013</td>\n",
       "      <td>14058</td>\n",
       "      <td>1611</td>\n",
       "    </tr>\n",
       "    <tr>\n",
       "      <th>4f10ce5ce4b0042053b4bb63</th>\n",
       "      <td>พิพิธภัณฑ์สำนักงานตำรวจแห่งชาติ</td>\n",
       "      <td>Museum</td>\n",
       "      <td>13.768063</td>\n",
       "      <td>100.510269</td>\n",
       "      <td>13636</td>\n",
       "      <td>1634</td>\n",
       "    </tr>\n",
       "  </tbody>\n",
       "</table>\n",
       "</div>"
      ],
      "text/plain": [
       "                                                                       name  \\\n",
       "id                                                                            \n",
       "4dd0d8c1c65bdac7139b737e                             Grasshopper Adventures   \n",
       "4b0587faf964a5204aaa22e3  หอศิลป์ สมเด็จพระนางเจ้าสิริกิติ์ พระบรมราชินี...   \n",
       "4d61b57a29ef236acb38b459                                  Dusit Zoo Gallery   \n",
       "4fcb2c67e4b023688a07e1d4          Reptile Exhibit (ห้องแสดงสัตว์เลื้อยคลาน)   \n",
       "4f10ce5ce4b0042053b4bb63                    พิพิธภัณฑ์สำนักงานตำรวจแห่งชาติ   \n",
       "\n",
       "                             categories        lat         lng  distance  \\\n",
       "id                                                                         \n",
       "4dd0d8c1c65bdac7139b737e  Tour Provider  13.757171  100.500193     12682   \n",
       "4b0587faf964a5204aaa22e3    Art Gallery  13.756267  100.504884     12682   \n",
       "4d61b57a29ef236acb38b459    Art Gallery  13.774097  100.517401     14026   \n",
       "4fcb2c67e4b023688a07e1d4    Zoo Exhibit  13.772691  100.518013     14058   \n",
       "4f10ce5ce4b0042053b4bb63         Museum  13.768063  100.510269     13636   \n",
       "\n",
       "                          duration  \n",
       "id                                  \n",
       "4dd0d8c1c65bdac7139b737e      1507  \n",
       "4b0587faf964a5204aaa22e3      1508  \n",
       "4d61b57a29ef236acb38b459      1601  \n",
       "4fcb2c67e4b023688a07e1d4      1611  \n",
       "4f10ce5ce4b0042053b4bb63      1634  "
      ]
     },
     "execution_count": 11,
     "metadata": {},
     "output_type": "execute_result"
    }
   ],
   "source": [
    "df['distance'] = s.apply(lambda x : x[0])\n",
    "df['duration'] = s.apply(lambda x : x[1])\n",
    "df.sort_values('duration', inplace=True)\n",
    "df.head()"
   ]
  },
  {
   "cell_type": "code",
   "execution_count": 12,
   "metadata": {
    "collapsed": false
   },
   "outputs": [],
   "source": [
    "distance, duration = dist_dura('{},{}'.format(origin[0], origin[1]), '{},{}'.format(destin[0], destin[1]))\n",
    "df['dt_min'] = (df['duration'] - duration) / 60"
   ]
  },
  {
   "cell_type": "markdown",
   "metadata": {
    "collapsed": false
   },
   "source": [
    "# Visualization"
   ]
  },
  {
   "cell_type": "code",
   "execution_count": 13,
   "metadata": {
    "collapsed": false
   },
   "outputs": [
    {
     "name": "stdout",
     "output_type": "stream",
     "text": [
      "Collecting folium\n",
      "\u001b[?25l  Downloading https://files.pythonhosted.org/packages/88/89/8186c3441eb2a224d2896d9a8db6ded20ddd225f109e6144494a9893a0c1/folium-0.6.0-py3-none-any.whl (79kB)\n",
      "\u001b[K    100% |████████████████████████████████| 81kB 18.8MB/s \n",
      "\u001b[?25hRequirement already satisfied: numpy in /usr/local/lib/python3.5/dist-packages (from folium) (1.14.5)\n",
      "Requirement already satisfied: jinja2 in /usr/local/lib/python3.5/dist-packages (from folium) (2.8)\n",
      "Requirement already satisfied: requests in ./common/.virtualenv/python3/lib/python3.5/site-packages (from folium) (2.19.1)\n",
      "Requirement already satisfied: six in /usr/local/lib/python3.5/dist-packages (from folium) (1.11.0)\n",
      "Collecting branca>=0.3.0 (from folium)\n",
      "  Downloading https://files.pythonhosted.org/packages/b5/18/13c018655f722896f25791f1db687db5671bd79285e05b3dd8c309b36414/branca-0.3.0-py3-none-any.whl\n",
      "Requirement already satisfied: MarkupSafe in /usr/local/lib/python3.5/dist-packages (from jinja2->folium) (0.23)\n",
      "Requirement already satisfied: certifi>=2017.4.17 in ./common/.virtualenv/python3/lib/python3.5/site-packages (from requests->folium) (2018.8.24)\n",
      "Requirement already satisfied: urllib3<1.24,>=1.21.1 in ./common/.virtualenv/python3/lib/python3.5/site-packages (from requests->folium) (1.23)\n",
      "Requirement already satisfied: chardet<3.1.0,>=3.0.2 in ./common/.virtualenv/python3/lib/python3.5/site-packages (from requests->folium) (3.0.4)\n",
      "Requirement already satisfied: idna<2.8,>=2.5 in ./common/.virtualenv/python3/lib/python3.5/site-packages (from requests->folium) (2.7)\n",
      "Installing collected packages: branca, folium\n",
      "Successfully installed branca-0.3.0 folium-0.6.0\n"
     ]
    }
   ],
   "source": [
    "#!conda install -c conda-forge folium=0.5.0 --yes \n",
    "!pip install folium"
   ]
  },
  {
   "cell_type": "code",
   "execution_count": 14,
   "metadata": {
    "collapsed": true
   },
   "outputs": [],
   "source": [
    "import folium # map rendering library\n",
    "from ipywidgets import interact"
   ]
  },
  {
   "cell_type": "code",
   "execution_count": 15,
   "metadata": {
    "collapsed": true
   },
   "outputs": [],
   "source": [
    "# filter the DataFrame df by detour duration\n",
    "def detour(minutes):  # detour(5)  0 to 5 minutes detour\n",
    "    f1 = (df.duration - duration) < minutes * 60\n",
    "    f2 = (minutes - 5) * 60 < (df.duration - duration)\n",
    "    return df[f1 & f2]"
   ]
  },
  {
   "cell_type": "code",
   "execution_count": 16,
   "metadata": {
    "collapsed": false,
    "scrolled": false
   },
   "outputs": [
    {
     "name": "stdout",
     "output_type": "stream",
     "text": [
      "(18, 7)\n"
     ]
    },
    {
     "data": {
      "text/html": [
       "<div style=\"width:100%;\"><div style=\"position:relative;width:100%;height:0;padding-bottom:60%;\"><iframe src=\"data:text/html;charset=utf-8;base64,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\" style=\"position:absolute;width:100%;height:100%;left:0;top:0;border:none !important;\" allowfullscreen webkitallowfullscreen mozallowfullscreen></iframe></div></div>"
      ],
      "text/plain": [
       "<folium.folium.Map at 0x7f8bac7173c8>"
      ]
     },
     "metadata": {},
     "output_type": "display_data"
    }
   ],
   "source": [
    "# draw interactive map\n",
    "def add_marker(mp, lat, lng, label):\n",
    "    folium.CircleMarker(\n",
    "        [lat, lng],\n",
    "        radius=5,\n",
    "        popup=label,\n",
    "        color='blue',\n",
    "        fill=True,\n",
    "        fill_color='#3186cc',\n",
    "        fill_opacity=0.7).add_to(mp)\n",
    "\n",
    "\n",
    "def draw_map(minutes):\n",
    "    center_lat = (origin[0] + destin[0]) / 2\n",
    "    center_lng = (origin[1] + destin[1]) / 2\n",
    "    mp = folium.Map(location=[center_lat, center_lng], zoom_start=13)\n",
    "\n",
    "    add_marker(mp, origin[0], origin[1], \"Origin\")\n",
    "    add_marker(mp, destin[0], destin[1], \"Destination\")\n",
    "    \n",
    "    dtdf = detour(minutes)\n",
    "    \n",
    "    print(dtdf.shape)\n",
    "    dtdf.apply(lambda row : folium.CircleMarker(\n",
    "        [row['lat'], row['lng']],\n",
    "        radius=5,\n",
    "        popup='{} [{:.2f} mins]'.format(row['name'][0:32].replace(\"'\", ' '), row['dt_min']),\n",
    "        color='red',\n",
    "        fill=True,\n",
    "        fill_color='#3186cc',\n",
    "        fill_opacity=0.7).add_to(mp), axis=1)\n",
    "                          \n",
    "    return mp\n",
    "         \n",
    "interact(draw_map, minutes=(5, 60, 5))"
   ]
  },
  {
   "cell_type": "markdown",
   "metadata": {},
   "source": [
    "If you don't run the script, here's the result in static image."
   ]
  },
  {
   "cell_type": "markdown",
   "metadata": {},
   "source": [
    "![](https://cdn.pbrd.co/images/HFEmHPpt.png)"
   ]
  }
 ],
 "metadata": {
  "kernelspec": {
   "display_name": "Python 3",
   "language": "python",
   "name": "python3"
  },
  "language_info": {
   "codemirror_mode": {
    "name": "ipython",
    "version": 3
   },
   "file_extension": ".py",
   "mimetype": "text/x-python",
   "name": "python",
   "nbconvert_exporter": "python",
   "pygments_lexer": "ipython3",
   "version": "3.5.2"
  },
  "widgets": {
   "state": {
    "1983171ee5784f7389714f8377ef099d": {
     "views": []
    },
    "4313cc9ba90b4b82919351c97ca61c11": {
     "views": []
    },
    "4c59649c71f0415f8850983c9b4e268f": {
     "views": [
      {
       "cell_index": 23
      }
     ]
    },
    "c455fb07cfcf4ba1b111ea9c47e4cff0": {
     "views": []
    }
   },
   "version": "1.1.2"
  }
 },
 "nbformat": 4,
 "nbformat_minor": 2
}
