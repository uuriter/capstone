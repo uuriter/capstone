{
 "cells": [
  {
   "cell_type": "markdown",
   "metadata": {
    "collapsed": true
   },
   "source": [
    "# Set Origin and Destination\n",
    "\n",
    "Set the origin and the destination of usual route."
   ]
  },
  {
   "cell_type": "code",
   "execution_count": 17,
   "metadata": {
    "collapsed": true
   },
   "outputs": [],
   "source": [
    "origin = (13.7828824,100.4706708)\n",
    "destin = (13.7338328,100.5274467)"
   ]
  },
  {
   "cell_type": "markdown",
   "metadata": {},
   "source": [
    "# Get FourSquare Venues from Origin and Destination"
   ]
  },
  {
   "cell_type": "markdown",
   "metadata": {},
   "source": [
    "FourSquare API Key"
   ]
  },
  {
   "cell_type": "code",
   "execution_count": 18,
   "metadata": {
    "collapsed": true
   },
   "outputs": [],
   "source": [
    "# secret key\n",
    "CLIENT_ID = '' # your Foursquare ID\n",
    "CLIENT_SECRET = '' # your Foursquare Secret\n",
    "VERSION = '' # Foursquare API version\n",
    "\n",
    "GOOGLE_KEY = ''"
   ]
  },
  {
   "cell_type": "code",
   "execution_count": 19,
   "metadata": {
    "collapsed": true
   },
   "outputs": [],
   "source": [
    "# function for calling FourSquare API\n",
    "\n",
    "import requests\n",
    "\n",
    "def call4sq(coord):\n",
    "\tVENUE_TYPE = 'explore'  # explore trending\n",
    "\tsection = 'arts'  # sights arts outdoors\n",
    "\tlat = coord[0]\n",
    "\tlng = coord[1]\n",
    "\tradius = 10000\n",
    "\tLIMIT = 100\n",
    "\n",
    "\turl = 'https://api.foursquare.com/v2/venues/{}?&client_id={}&client_secret={}&v={}&section={}&ll={},{}&radius={}&limit={}'.format(\n",
    "\t\tVENUE_TYPE,\n",
    "\t\tCLIENT_ID, \n",
    "\t\tCLIENT_SECRET, \n",
    "\t\tVERSION,\n",
    "\t\tsection,\n",
    "\t\tlat, \n",
    "\t\tlng, \n",
    "\t\tradius, \n",
    "\t\tLIMIT)\n",
    "\treturn requests.get(url).json()  "
   ]
  },
  {
   "cell_type": "code",
   "execution_count": 20,
   "metadata": {
    "collapsed": true
   },
   "outputs": [],
   "source": [
    "# function for converting JSON to DataFrame\n",
    "\n",
    "import pandas as pd\n",
    "from pandas.io.json import json_normalize\n",
    "\n",
    "def get_category_type(row):\n",
    "    try:\n",
    "        categories_list = row['categories']\n",
    "    except:\n",
    "        categories_list = row['venue.categories']\n",
    "        \n",
    "    if len(categories_list) == 0:\n",
    "        return None\n",
    "    else:\n",
    "        return categories_list[0]['name']\n",
    "    \n",
    "def json2df(json):\n",
    "\tvenues = json['response']['groups'][0]['items']\n",
    "\tnv = json_normalize(venues) # flatten JSON\n",
    "\t# filter columns\n",
    "\tfiltered_columns = ['venue.name', 'venue.categories', 'venue.location.lat', 'venue.location.lng', 'venue.id',]\n",
    "\tnv = nv.loc[:, filtered_columns]\n",
    "\n",
    "\t# filter the category for each row\n",
    "\tnv['venue.categories'] = nv.apply(get_category_type, axis=1)\n",
    "\n",
    "\t# clean columns\n",
    "\tnv.columns = [col.split(\".\")[-1] for col in nv.columns]\n",
    "\n",
    "\tnv = nv[nv.categories != 'Multiplex']\n",
    "\tnv = nv[(nv.categories.str.contains('Theater')) == False]\n",
    "\treturn nv"
   ]
  },
  {
   "cell_type": "markdown",
   "metadata": {},
   "source": [
    "Find venues near the origin and the destination.  Combine the result into one DataFrame."
   ]
  },
  {
   "cell_type": "code",
   "execution_count": 21,
   "metadata": {
    "collapsed": false
   },
   "outputs": [
    {
     "name": "stdout",
     "output_type": "stream",
     "text": [
      "(74, 4)\n",
      "(67, 4)\n"
     ]
    }
   ],
   "source": [
    "df1 = json2df(call4sq(origin)) # LPN P\n",
    "df2 = json2df(call4sq(destin)) # CU\n",
    "df1.set_index('id', inplace=True)\n",
    "df2.set_index('id', inplace=True)\n",
    "print(df1.shape)\n",
    "print(df2.shape)"
   ]
  },
  {
   "cell_type": "code",
   "execution_count": 22,
   "metadata": {
    "collapsed": false
   },
   "outputs": [
    {
     "name": "stdout",
     "output_type": "stream",
     "text": [
      "(89, 4)\n"
     ]
    },
    {
     "data": {
      "text/html": [
       "<div>\n",
       "<style scoped>\n",
       "    .dataframe tbody tr th:only-of-type {\n",
       "        vertical-align: middle;\n",
       "    }\n",
       "\n",
       "    .dataframe tbody tr th {\n",
       "        vertical-align: top;\n",
       "    }\n",
       "\n",
       "    .dataframe thead th {\n",
       "        text-align: right;\n",
       "    }\n",
       "</style>\n",
       "<table border=\"1\" class=\"dataframe\">\n",
       "  <thead>\n",
       "    <tr style=\"text-align: right;\">\n",
       "      <th></th>\n",
       "      <th>name</th>\n",
       "      <th>categories</th>\n",
       "      <th>lat</th>\n",
       "      <th>lng</th>\n",
       "    </tr>\n",
       "    <tr>\n",
       "      <th>id</th>\n",
       "      <th></th>\n",
       "      <th></th>\n",
       "      <th></th>\n",
       "      <th></th>\n",
       "    </tr>\n",
       "  </thead>\n",
       "  <tbody>\n",
       "    <tr>\n",
       "      <th>4dfb6e666284607895334ba5</th>\n",
       "      <td>Adhere the 13th Blues Bar</td>\n",
       "      <td>Jazz Club</td>\n",
       "      <td>13.763043</td>\n",
       "      <td>100.498839</td>\n",
       "    </tr>\n",
       "    <tr>\n",
       "      <th>52b6b6f1498e07724edcc2b4</th>\n",
       "      <td>Pipit Banglamphu (พิพิธบางลำพู)</td>\n",
       "      <td>History Museum</td>\n",
       "      <td>13.763533</td>\n",
       "      <td>100.496432</td>\n",
       "    </tr>\n",
       "    <tr>\n",
       "      <th>4d20393a0901721e6ffc90a5</th>\n",
       "      <td>พระที่นั่งพุทไธสวรรย์</td>\n",
       "      <td>History Museum</td>\n",
       "      <td>13.757895</td>\n",
       "      <td>100.492100</td>\n",
       "    </tr>\n",
       "    <tr>\n",
       "      <th>50c015c5e4b093aa4baf2ef9</th>\n",
       "      <td>Siriraj Phimukhsthan Museum (พิพิธภัณฑ์ศิริราช...</td>\n",
       "      <td>History Museum</td>\n",
       "      <td>13.759675</td>\n",
       "      <td>100.487052</td>\n",
       "    </tr>\n",
       "    <tr>\n",
       "      <th>4c8882ac94f5a093117fd01e</th>\n",
       "      <td>Princess Maha Chakri Sirindhorn Anthropology C...</td>\n",
       "      <td>History Museum</td>\n",
       "      <td>13.783951</td>\n",
       "      <td>100.458725</td>\n",
       "    </tr>\n",
       "  </tbody>\n",
       "</table>\n",
       "</div>"
      ],
      "text/plain": [
       "                                                                       name  \\\n",
       "id                                                                            \n",
       "4dfb6e666284607895334ba5                          Adhere the 13th Blues Bar   \n",
       "52b6b6f1498e07724edcc2b4                    Pipit Banglamphu (พิพิธบางลำพู)   \n",
       "4d20393a0901721e6ffc90a5                              พระที่นั่งพุทไธสวรรย์   \n",
       "50c015c5e4b093aa4baf2ef9  Siriraj Phimukhsthan Museum (พิพิธภัณฑ์ศิริราช...   \n",
       "4c8882ac94f5a093117fd01e  Princess Maha Chakri Sirindhorn Anthropology C...   \n",
       "\n",
       "                              categories        lat         lng  \n",
       "id                                                               \n",
       "4dfb6e666284607895334ba5       Jazz Club  13.763043  100.498839  \n",
       "52b6b6f1498e07724edcc2b4  History Museum  13.763533  100.496432  \n",
       "4d20393a0901721e6ffc90a5  History Museum  13.757895  100.492100  \n",
       "50c015c5e4b093aa4baf2ef9  History Museum  13.759675  100.487052  \n",
       "4c8882ac94f5a093117fd01e  History Museum  13.783951  100.458725  "
      ]
     },
     "execution_count": 22,
     "metadata": {},
     "output_type": "execute_result"
    }
   ],
   "source": [
    "df = pd.concat([df1, df2]).drop_duplicates()\n",
    "print(df.shape)\n",
    "df.head()"
   ]
  },
  {
   "cell_type": "markdown",
   "metadata": {},
   "source": [
    "# Calculate Detour Distance\n",
    "\n"
   ]
  },
  {
   "cell_type": "code",
   "execution_count": 23,
   "metadata": {
    "collapsed": false
   },
   "outputs": [
    {
     "name": "stdout",
     "output_type": "stream",
     "text": [
      "Requirement already up-to-date: googlemaps in ./common/.virtualenv/python3/lib/python3.5/site-packages (3.0.2)\n",
      "Requirement already satisfied, skipping upgrade: requests<3.0,>=2.11.1 in ./common/.virtualenv/python3/lib/python3.5/site-packages (from googlemaps) (2.19.1)\n",
      "Requirement already satisfied, skipping upgrade: idna<2.8,>=2.5 in ./common/.virtualenv/python3/lib/python3.5/site-packages (from requests<3.0,>=2.11.1->googlemaps) (2.7)\n",
      "Requirement already satisfied, skipping upgrade: certifi>=2017.4.17 in ./common/.virtualenv/python3/lib/python3.5/site-packages (from requests<3.0,>=2.11.1->googlemaps) (2018.8.24)\n",
      "Requirement already satisfied, skipping upgrade: urllib3<1.24,>=1.21.1 in ./common/.virtualenv/python3/lib/python3.5/site-packages (from requests<3.0,>=2.11.1->googlemaps) (1.23)\n",
      "Requirement already satisfied, skipping upgrade: chardet<3.1.0,>=3.0.2 in ./common/.virtualenv/python3/lib/python3.5/site-packages (from requests<3.0,>=2.11.1->googlemaps) (3.0.4)\n"
     ]
    }
   ],
   "source": [
    "!pip install -U googlemaps"
   ]
  },
  {
   "cell_type": "code",
   "execution_count": 24,
   "metadata": {
    "collapsed": true
   },
   "outputs": [],
   "source": [
    "import googlemaps\n",
    "\n",
    "gmaps = googlemaps.Client(key=GOOGLE_KEY)"
   ]
  },
  {
   "cell_type": "code",
   "execution_count": 25,
   "metadata": {
    "collapsed": true
   },
   "outputs": [],
   "source": [
    "# find distance and duration\n",
    "def dist_dura(a, b):\n",
    "    result = gmaps.distance_matrix(a, b, 'driving')\n",
    "    return (int(result['rows'][0]['elements'][0]['distance']['value']), \n",
    "            int(result['rows'][0]['elements'][0]['duration']['value']))\n",
    "\n",
    "# find detour distance and duration\n",
    "def detour_dist_dura(venue, origin, destin):\n",
    "    origin = '{},{}'.format(origin[0], origin[1])\n",
    "    destin = '{},{}'.format(destin[0], destin[1])\n",
    "    r0 = dist_dura(origin, venue) \n",
    "    r1 = dist_dura(venue, destin)\n",
    "    return (r0[0] + r1[0], r0[1] + r1[1])"
   ]
  },
  {
   "cell_type": "markdown",
   "metadata": {},
   "source": [
    "Find detour distance and duration of all rows."
   ]
  },
  {
   "cell_type": "code",
   "execution_count": 26,
   "metadata": {
    "collapsed": false
   },
   "outputs": [
    {
     "data": {
      "text/plain": [
       "id\n",
       "4dfb6e666284607895334ba5    (12609, 1856)\n",
       "52b6b6f1498e07724edcc2b4    (12382, 1804)\n",
       "4d20393a0901721e6ffc90a5    (13827, 2195)\n",
       "50c015c5e4b093aa4baf2ef9    (16660, 2100)\n",
       "4c8882ac94f5a093117fd01e    (16863, 1650)\n",
       "dtype: object"
      ]
     },
     "execution_count": 26,
     "metadata": {},
     "output_type": "execute_result"
    }
   ],
   "source": [
    "s = df.lat.astype(str) + ',' + df.lng.astype(str)\n",
    "s = s.apply(detour_dist_dura, args=(origin, destin))\n",
    "s.head()"
   ]
  },
  {
   "cell_type": "markdown",
   "metadata": {},
   "source": [
    "Append the distances and durations to the DataFrame"
   ]
  },
  {
   "cell_type": "code",
   "execution_count": 27,
   "metadata": {
    "collapsed": false
   },
   "outputs": [
    {
     "data": {
      "text/html": [
       "<div>\n",
       "<style scoped>\n",
       "    .dataframe tbody tr th:only-of-type {\n",
       "        vertical-align: middle;\n",
       "    }\n",
       "\n",
       "    .dataframe tbody tr th {\n",
       "        vertical-align: top;\n",
       "    }\n",
       "\n",
       "    .dataframe thead th {\n",
       "        text-align: right;\n",
       "    }\n",
       "</style>\n",
       "<table border=\"1\" class=\"dataframe\">\n",
       "  <thead>\n",
       "    <tr style=\"text-align: right;\">\n",
       "      <th></th>\n",
       "      <th>name</th>\n",
       "      <th>categories</th>\n",
       "      <th>lat</th>\n",
       "      <th>lng</th>\n",
       "      <th>distance</th>\n",
       "      <th>duration</th>\n",
       "    </tr>\n",
       "    <tr>\n",
       "      <th>id</th>\n",
       "      <th></th>\n",
       "      <th></th>\n",
       "      <th></th>\n",
       "      <th></th>\n",
       "      <th></th>\n",
       "      <th></th>\n",
       "    </tr>\n",
       "  </thead>\n",
       "  <tbody>\n",
       "    <tr>\n",
       "      <th>4dd0d8c1c65bdac7139b737e</th>\n",
       "      <td>Grasshopper Adventures</td>\n",
       "      <td>Tour Provider</td>\n",
       "      <td>13.757171</td>\n",
       "      <td>100.500193</td>\n",
       "      <td>12682</td>\n",
       "      <td>1507</td>\n",
       "    </tr>\n",
       "    <tr>\n",
       "      <th>4b0587faf964a5204aaa22e3</th>\n",
       "      <td>หอศิลป์ สมเด็จพระนางเจ้าสิริกิติ์ พระบรมราชินี...</td>\n",
       "      <td>Art Gallery</td>\n",
       "      <td>13.756267</td>\n",
       "      <td>100.504884</td>\n",
       "      <td>12682</td>\n",
       "      <td>1508</td>\n",
       "    </tr>\n",
       "    <tr>\n",
       "      <th>4d61b57a29ef236acb38b459</th>\n",
       "      <td>Dusit Zoo Gallery</td>\n",
       "      <td>Art Gallery</td>\n",
       "      <td>13.774097</td>\n",
       "      <td>100.517401</td>\n",
       "      <td>14026</td>\n",
       "      <td>1601</td>\n",
       "    </tr>\n",
       "    <tr>\n",
       "      <th>4fcb2c67e4b023688a07e1d4</th>\n",
       "      <td>Reptile Exhibit (ห้องแสดงสัตว์เลื้อยคลาน)</td>\n",
       "      <td>Zoo Exhibit</td>\n",
       "      <td>13.772691</td>\n",
       "      <td>100.518013</td>\n",
       "      <td>14058</td>\n",
       "      <td>1611</td>\n",
       "    </tr>\n",
       "    <tr>\n",
       "      <th>4f10ce5ce4b0042053b4bb63</th>\n",
       "      <td>พิพิธภัณฑ์สำนักงานตำรวจแห่งชาติ</td>\n",
       "      <td>Museum</td>\n",
       "      <td>13.768063</td>\n",
       "      <td>100.510269</td>\n",
       "      <td>13636</td>\n",
       "      <td>1634</td>\n",
       "    </tr>\n",
       "  </tbody>\n",
       "</table>\n",
       "</div>"
      ],
      "text/plain": [
       "                                                                       name  \\\n",
       "id                                                                            \n",
       "4dd0d8c1c65bdac7139b737e                             Grasshopper Adventures   \n",
       "4b0587faf964a5204aaa22e3  หอศิลป์ สมเด็จพระนางเจ้าสิริกิติ์ พระบรมราชินี...   \n",
       "4d61b57a29ef236acb38b459                                  Dusit Zoo Gallery   \n",
       "4fcb2c67e4b023688a07e1d4          Reptile Exhibit (ห้องแสดงสัตว์เลื้อยคลาน)   \n",
       "4f10ce5ce4b0042053b4bb63                    พิพิธภัณฑ์สำนักงานตำรวจแห่งชาติ   \n",
       "\n",
       "                             categories        lat         lng  distance  \\\n",
       "id                                                                         \n",
       "4dd0d8c1c65bdac7139b737e  Tour Provider  13.757171  100.500193     12682   \n",
       "4b0587faf964a5204aaa22e3    Art Gallery  13.756267  100.504884     12682   \n",
       "4d61b57a29ef236acb38b459    Art Gallery  13.774097  100.517401     14026   \n",
       "4fcb2c67e4b023688a07e1d4    Zoo Exhibit  13.772691  100.518013     14058   \n",
       "4f10ce5ce4b0042053b4bb63         Museum  13.768063  100.510269     13636   \n",
       "\n",
       "                          duration  \n",
       "id                                  \n",
       "4dd0d8c1c65bdac7139b737e      1507  \n",
       "4b0587faf964a5204aaa22e3      1508  \n",
       "4d61b57a29ef236acb38b459      1601  \n",
       "4fcb2c67e4b023688a07e1d4      1611  \n",
       "4f10ce5ce4b0042053b4bb63      1634  "
      ]
     },
     "execution_count": 27,
     "metadata": {},
     "output_type": "execute_result"
    }
   ],
   "source": [
    "df['distance'] = s.apply(lambda x : x[0])\n",
    "df['duration'] = s.apply(lambda x : x[1])\n",
    "df.sort_values('duration', inplace=True)\n",
    "df.head()"
   ]
  },
  {
   "cell_type": "code",
   "execution_count": 28,
   "metadata": {
    "collapsed": false
   },
   "outputs": [],
   "source": [
    "distance, duration = dist_dura('{},{}'.format(origin[0], origin[1]), '{},{}'.format(destin[0], destin[1]))\n",
    "df['dt_min'] = (df['duration'] - duration) / 60"
   ]
  },
  {
   "cell_type": "markdown",
   "metadata": {
    "collapsed": false
   },
   "source": [
    "# Visualization"
   ]
  },
  {
   "cell_type": "code",
   "execution_count": 29,
   "metadata": {
    "collapsed": false
   },
   "outputs": [
    {
     "name": "stdout",
     "output_type": "stream",
     "text": [
      "Requirement already satisfied: folium in ./common/.virtualenv/python3/lib/python3.5/site-packages (0.6.0)\n",
      "Requirement already satisfied: numpy in /usr/local/lib/python3.5/dist-packages (from folium) (1.14.5)\n",
      "Requirement already satisfied: six in /usr/local/lib/python3.5/dist-packages (from folium) (1.11.0)\n",
      "Requirement already satisfied: branca>=0.3.0 in ./common/.virtualenv/python3/lib/python3.5/site-packages (from folium) (0.3.0)\n",
      "Requirement already satisfied: jinja2 in /usr/local/lib/python3.5/dist-packages (from folium) (2.8)\n",
      "Requirement already satisfied: requests in ./common/.virtualenv/python3/lib/python3.5/site-packages (from folium) (2.19.1)\n",
      "Requirement already satisfied: MarkupSafe in /usr/local/lib/python3.5/dist-packages (from jinja2->folium) (0.23)\n",
      "Requirement already satisfied: idna<2.8,>=2.5 in ./common/.virtualenv/python3/lib/python3.5/site-packages (from requests->folium) (2.7)\n",
      "Requirement already satisfied: certifi>=2017.4.17 in ./common/.virtualenv/python3/lib/python3.5/site-packages (from requests->folium) (2018.8.24)\n",
      "Requirement already satisfied: chardet<3.1.0,>=3.0.2 in ./common/.virtualenv/python3/lib/python3.5/site-packages (from requests->folium) (3.0.4)\n",
      "Requirement already satisfied: urllib3<1.24,>=1.21.1 in ./common/.virtualenv/python3/lib/python3.5/site-packages (from requests->folium) (1.23)\n"
     ]
    }
   ],
   "source": [
    "#!conda install -c conda-forge folium=0.5.0 --yes \n",
    "!pip install folium"
   ]
  },
  {
   "cell_type": "code",
   "execution_count": 30,
   "metadata": {
    "collapsed": true
   },
   "outputs": [],
   "source": [
    "import folium # map rendering library\n",
    "from ipywidgets import interact"
   ]
  },
  {
   "cell_type": "code",
   "execution_count": 31,
   "metadata": {
    "collapsed": true
   },
   "outputs": [],
   "source": [
    "# filter the DataFrame df by detour duration\n",
    "def detour(minutes):  # detour(5)  0 to 5 minutes detour\n",
    "    f1 = (df.duration - duration) < minutes * 60\n",
    "    f2 = (minutes - 5) * 60 < (df.duration - duration)\n",
    "    return df[f1 & f2]"
   ]
  },
  {
   "cell_type": "code",
   "execution_count": 32,
   "metadata": {
    "collapsed": false,
    "scrolled": false
   },
   "outputs": [
    {
     "name": "stdout",
     "output_type": "stream",
     "text": [
      "(4, 7)\n"
     ]
    },
    {
     "data": {
      "text/html": [
       "<div style=\"width:100%;\"><div style=\"position:relative;width:100%;height:0;padding-bottom:60%;\"><iframe src=\"data:text/html;charset=utf-8;base64,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\" style=\"position:absolute;width:100%;height:100%;left:0;top:0;border:none !important;\" allowfullscreen webkitallowfullscreen mozallowfullscreen></iframe></div></div>"
      ],
      "text/plain": [
       "<folium.folium.Map at 0x7f420c5a4eb8>"
      ]
     },
     "metadata": {},
     "output_type": "display_data"
    },
    {
     "data": {
      "text/plain": [
       "<function __main__.draw_map>"
      ]
     },
     "execution_count": 32,
     "metadata": {},
     "output_type": "execute_result"
    }
   ],
   "source": [
    "# draw interactive map\n",
    "def add_marker(mp, lat, lng, label):\n",
    "    folium.CircleMarker(\n",
    "        [lat, lng],\n",
    "        radius=5,\n",
    "        popup=label,\n",
    "        color='blue',\n",
    "        fill=True,\n",
    "        fill_color='#3186cc',\n",
    "        fill_opacity=0.7).add_to(mp)\n",
    "\n",
    "\n",
    "def draw_map(minutes):\n",
    "    center_lat = (origin[0] + destin[0]) / 2\n",
    "    center_lng = (origin[1] + destin[1]) / 2\n",
    "    mp = folium.Map(location=[center_lat, center_lng], zoom_start=13)\n",
    "\n",
    "    add_marker(mp, origin[0], origin[1], \"Origin\")\n",
    "    add_marker(mp, destin[0], destin[1], \"Destination\")\n",
    "    \n",
    "    dtdf = detour(minutes)\n",
    "    \n",
    "    print(dtdf.shape)\n",
    "    dtdf.apply(lambda row : folium.CircleMarker(\n",
    "        [row['lat'], row['lng']],\n",
    "        radius=5,\n",
    "        popup='{} [{:.2f} mins]'.format(row['name'][0:32].replace(\"'\", ' '), row['dt_min']),\n",
    "        color='red',\n",
    "        fill=True,\n",
    "        fill_color='#3186cc',\n",
    "        fill_opacity=0.7).add_to(mp), axis=1)\n",
    "                          \n",
    "    return mp\n",
    "         \n",
    "interact(draw_map, minutes=(5, 60, 5))"
   ]
  }
 ],
 "metadata": {
  "kernelspec": {
   "display_name": "Python 3",
   "language": "python",
   "name": "python3"
  },
  "language_info": {
   "codemirror_mode": {
    "name": "ipython",
    "version": 3
   },
   "file_extension": ".py",
   "mimetype": "text/x-python",
   "name": "python",
   "nbconvert_exporter": "python",
   "pygments_lexer": "ipython3",
   "version": "3.5.2"
  },
  "widgets": {
   "state": {
    "02b6ff3e196140e1b346b0d84f23da0c": {
     "views": []
    },
    "0ba57bfe5f6345509a22a3c94b99de06": {
     "views": []
    },
    "17b992f0001b4315a6125c832493c8a0": {
     "views": []
    },
    "451c5e8a6ad24de09ae6f5a1e9aec75f": {
     "views": []
    },
    "9d35c7a057ec43de9e9534eab1bf5a74": {
     "views": [
      {
       "cell_index": 23
      }
     ]
    },
    "b1ef9e19ae0f4365997938d8d4634676": {
     "views": []
    },
    "c29e1cc7ee20496a95b81d0167192c17": {
     "views": []
    },
    "c6088e7a204047dfbecbfbc712721ed9": {
     "views": []
    }
   },
   "version": "1.1.2"
  }
 },
 "nbformat": 4,
 "nbformat_minor": 2
}
