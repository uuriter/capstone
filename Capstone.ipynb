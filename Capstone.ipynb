{
    "nbformat_minor": 1, 
    "cells": [
        {
            "source": "# Part 1 : Scrap Wikipedia Data\n\nDownload wikipedia data", 
            "cell_type": "markdown", 
            "metadata": {}
        }, 
        {
            "execution_count": 2, 
            "cell_type": "code", 
            "metadata": {}, 
            "outputs": [], 
            "source": "!wget -q -O 'postal.html' https://en.wikipedia.org/wiki/List_of_postal_codes_of_Canada:_M"
        }, 
        {
            "source": "Parse the data using BeautifulSoup", 
            "cell_type": "markdown", 
            "metadata": {}
        }, 
        {
            "execution_count": 3, 
            "cell_type": "code", 
            "metadata": {}, 
            "outputs": [], 
            "source": "from bs4 import BeautifulSoup\n\nwith open('postal.html', encoding='utf-8') as html_doc:   # utf-8\n    soup = BeautifulSoup(html_doc, 'html.parser')"
        }, 
        {
            "source": "The required data is in `td` tag", 
            "cell_type": "markdown", 
            "metadata": {}
        }, 
        {
            "execution_count": 4, 
            "cell_type": "code", 
            "metadata": {}, 
            "outputs": [
                {
                    "execution_count": 4, 
                    "metadata": {}, 
                    "data": {
                        "text/plain": "[<td>M1A</td>, <td>Not assigned</td>, <td>Not assigned\n </td>, <td>M2A</td>, <td>Not assigned</td>, <td>Not assigned\n </td>, <td>M3A</td>, <td><a href=\"/wiki/North_York\" title=\"North York\">North York</a></td>, <td><a href=\"/wiki/Parkwoods\" title=\"Parkwoods\">Parkwoods</a>\n </td>, <td>M4A</td>]"
                    }, 
                    "output_type": "execute_result"
                }
            ], 
            "source": "soup('td')[:10]"
        }, 
        {
            "source": "Add all `td` in a numpy array.  Stop when found empty string. Resize the array to create a data frame", 
            "cell_type": "markdown", 
            "metadata": {}
        }, 
        {
            "execution_count": 5, 
            "cell_type": "code", 
            "metadata": {}, 
            "outputs": [
                {
                    "output_type": "stream", 
                    "name": "stdout", 
                    "text": "(867,)\n(289, 3)\n"
                }
            ], 
            "source": "import numpy as np\n\na = []\nfor tag in soup('td'):\n    s = tag.text.strip()\n    if s == '': break\n    a.append(s)\n    \na = np.array(a)\nprint(a.shape)\na = a.reshape((-1,3))\nprint(a.shape)"
        }, 
        {
            "source": "Create a DataFrame", 
            "cell_type": "markdown", 
            "metadata": {}
        }, 
        {
            "execution_count": 6, 
            "cell_type": "code", 
            "metadata": {}, 
            "outputs": [
                {
                    "execution_count": 6, 
                    "metadata": {}, 
                    "data": {
                        "text/html": "<div>\n<style scoped>\n    .dataframe tbody tr th:only-of-type {\n        vertical-align: middle;\n    }\n\n    .dataframe tbody tr th {\n        vertical-align: top;\n    }\n\n    .dataframe thead th {\n        text-align: right;\n    }\n</style>\n<table border=\"1\" class=\"dataframe\">\n  <thead>\n    <tr style=\"text-align: right;\">\n      <th></th>\n      <th>PostalCode</th>\n      <th>Borough</th>\n      <th>Neighborhood</th>\n    </tr>\n  </thead>\n  <tbody>\n    <tr>\n      <th>0</th>\n      <td>M1A</td>\n      <td>Not assigned</td>\n      <td>Not assigned</td>\n    </tr>\n    <tr>\n      <th>1</th>\n      <td>M2A</td>\n      <td>Not assigned</td>\n      <td>Not assigned</td>\n    </tr>\n    <tr>\n      <th>2</th>\n      <td>M3A</td>\n      <td>North York</td>\n      <td>Parkwoods</td>\n    </tr>\n    <tr>\n      <th>3</th>\n      <td>M4A</td>\n      <td>North York</td>\n      <td>Victoria Village</td>\n    </tr>\n    <tr>\n      <th>4</th>\n      <td>M5A</td>\n      <td>Downtown Toronto</td>\n      <td>Harbourfront</td>\n    </tr>\n  </tbody>\n</table>\n</div>", 
                        "text/plain": "  PostalCode           Borough      Neighborhood\n0        M1A      Not assigned      Not assigned\n1        M2A      Not assigned      Not assigned\n2        M3A        North York         Parkwoods\n3        M4A        North York  Victoria Village\n4        M5A  Downtown Toronto      Harbourfront"
                    }, 
                    "output_type": "execute_result"
                }
            ], 
            "source": "import pandas as pd\n\ndf = pd.DataFrame(a)   # if dict is used, the column name would not be in this order\ndf.columns = ['PostalCode', 'Borough', 'Neighborhood']\ndf.head()"
        }, 
        {
            "source": "Check missing data", 
            "cell_type": "markdown", 
            "metadata": {}
        }, 
        {
            "execution_count": 7, 
            "cell_type": "code", 
            "metadata": {}, 
            "outputs": [
                {
                    "output_type": "stream", 
                    "name": "stdout", 
                    "text": "77\n1\n0\n"
                }
            ], 
            "source": "print(((df.Borough == 'Not assigned') & (df.Neighborhood == 'Not assigned')).sum())\nprint(((df.Borough != 'Not assigned') & (df.Neighborhood == 'Not assigned')).sum())\nprint(((df.Borough == 'Not assigned') & (df.Neighborhood != 'Not assigned')).sum())"
        }, 
        {
            "source": "Remove missing data", 
            "cell_type": "markdown", 
            "metadata": {}
        }, 
        {
            "execution_count": 8, 
            "cell_type": "code", 
            "metadata": {}, 
            "outputs": [
                {
                    "execution_count": 8, 
                    "metadata": {}, 
                    "data": {
                        "text/html": "<div>\n<style scoped>\n    .dataframe tbody tr th:only-of-type {\n        vertical-align: middle;\n    }\n\n    .dataframe tbody tr th {\n        vertical-align: top;\n    }\n\n    .dataframe thead th {\n        text-align: right;\n    }\n</style>\n<table border=\"1\" class=\"dataframe\">\n  <thead>\n    <tr style=\"text-align: right;\">\n      <th></th>\n      <th>PostalCode</th>\n      <th>Borough</th>\n      <th>Neighborhood</th>\n    </tr>\n  </thead>\n  <tbody>\n    <tr>\n      <th>2</th>\n      <td>M3A</td>\n      <td>North York</td>\n      <td>Parkwoods</td>\n    </tr>\n    <tr>\n      <th>3</th>\n      <td>M4A</td>\n      <td>North York</td>\n      <td>Victoria Village</td>\n    </tr>\n    <tr>\n      <th>4</th>\n      <td>M5A</td>\n      <td>Downtown Toronto</td>\n      <td>Harbourfront</td>\n    </tr>\n    <tr>\n      <th>5</th>\n      <td>M5A</td>\n      <td>Downtown Toronto</td>\n      <td>Regent Park</td>\n    </tr>\n    <tr>\n      <th>6</th>\n      <td>M6A</td>\n      <td>North York</td>\n      <td>Lawrence Heights</td>\n    </tr>\n    <tr>\n      <th>7</th>\n      <td>M6A</td>\n      <td>North York</td>\n      <td>Lawrence Manor</td>\n    </tr>\n    <tr>\n      <th>8</th>\n      <td>M7A</td>\n      <td>Queen's Park</td>\n      <td>Queen's Park</td>\n    </tr>\n    <tr>\n      <th>10</th>\n      <td>M9A</td>\n      <td>Etobicoke</td>\n      <td>Islington Avenue</td>\n    </tr>\n    <tr>\n      <th>11</th>\n      <td>M1B</td>\n      <td>Scarborough</td>\n      <td>Rouge</td>\n    </tr>\n    <tr>\n      <th>12</th>\n      <td>M1B</td>\n      <td>Scarborough</td>\n      <td>Malvern</td>\n    </tr>\n  </tbody>\n</table>\n</div>", 
                        "text/plain": "   PostalCode           Borough      Neighborhood\n2         M3A        North York         Parkwoods\n3         M4A        North York  Victoria Village\n4         M5A  Downtown Toronto      Harbourfront\n5         M5A  Downtown Toronto       Regent Park\n6         M6A        North York  Lawrence Heights\n7         M6A        North York    Lawrence Manor\n8         M7A      Queen's Park      Queen's Park\n10        M9A         Etobicoke  Islington Avenue\n11        M1B       Scarborough             Rouge\n12        M1B       Scarborough           Malvern"
                    }, 
                    "output_type": "execute_result"
                }
            ], 
            "source": "df = df[(df.Borough != 'Not assigned') | (df.Neighborhood != 'Not assigned')]\n\ns = df[df.Neighborhood == 'Not assigned'].Borough\ndf.loc[df.Neighborhood == 'Not assigned', 'Neighborhood'] = s\n\ndf.head(10)"
        }, 
        {
            "execution_count": 9, 
            "cell_type": "code", 
            "metadata": {}, 
            "outputs": [
                {
                    "execution_count": 9, 
                    "metadata": {}, 
                    "data": {
                        "text/plain": "(212, 3)"
                    }, 
                    "output_type": "execute_result"
                }
            ], 
            "source": "df.shape"
        }, 
        {
            "execution_count": 12, 
            "cell_type": "code", 
            "metadata": {}, 
            "outputs": [
                {
                    "output_type": "stream", 
                    "name": "stdout", 
                    "text": "Solving environment: done\n\n## Package Plan ##\n\n  environment location: /opt/ibm/conda/miniconda3\n\n  added / updated specs: \n    - geocoder\n\n\nThe following packages will be downloaded:\n\n    package                    |            build\n    ---------------------------|-----------------\n    geocoder-1.38.1            |             py_0          52 KB  conda-forge\n    ratelim-0.1.6              |           py35_0           5 KB  conda-forge\n    ca-certificates-2018.8.24  |       ha4d7672_0         136 KB  conda-forge\n    conda-4.5.11               |           py35_0         636 KB  conda-forge\n    certifi-2018.8.24          |           py35_1         138 KB  conda-forge\n    openssl-1.0.2p             |       h470a237_0         3.5 MB  conda-forge\n    orderedset-2.0             |           py35_0         685 KB  conda-forge\n    ------------------------------------------------------------\n                                           Total:         5.1 MB\n\nThe following NEW packages will be INSTALLED:\n\n    geocoder:        1.38.1-py_0           conda-forge\n    orderedset:      2.0-py35_0            conda-forge\n    ratelim:         0.1.6-py35_0          conda-forge\n\nThe following packages will be UPDATED:\n\n    ca-certificates: 2017.08.26-h1d4fec5_0             --> 2018.8.24-ha4d7672_0 conda-forge\n    certifi:         2018.1.18-py35_0                  --> 2018.8.24-py35_1     conda-forge\n    conda:           4.5.11-py35_0                     --> 4.5.11-py35_0        conda-forge\n    openssl:         1.0.2o-h20670df_0                 --> 1.0.2p-h470a237_0    conda-forge\n\n\nDownloading and Extracting Packages\ngeocoder-1.38.1      | 52 KB     | ##################################### | 100% \nratelim-0.1.6        | 5 KB      | ##################################### | 100% \nca-certificates-2018 | 136 KB    | ##################################### | 100% \nconda-4.5.11         | 636 KB    | ##################################### | 100% \ncertifi-2018.8.24    | 138 KB    | ##################################### | 100% \nopenssl-1.0.2p       | 3.5 MB    | ##################################### | 100% \norderedset-2.0       | 685 KB    | ##################################### | 100% \nPreparing transaction: done\nVerifying transaction: done\nExecuting transaction: done\n"
                }
            ], 
            "source": "!conda install -c conda-forge geocoder --yes"
        }, 
        {
            "execution_count": 13, 
            "cell_type": "code", 
            "metadata": {}, 
            "outputs": [], 
            "source": "import geocoder\n\ndef get_location(postal_code):\n  # initialize your variable to None\n  lat_lng_coords = None\n    \n  # loop until you get the coordinates\n  while(lat_lng_coords is None):\n    g = geocoder.google('{}, Toronto, Ontario'.format(postal_code))\n    lat_lng_coords = g.latlng\n  \n  return pd.Series((lat_lng_coords[0], lat_lng_coords[1]))   # return Series\n\ndf[['Latitude', 'Longitude']] = df.PostalCode.apply(get_location)"
        }, 
        {
            "execution_count": 14, 
            "cell_type": "code", 
            "metadata": {}, 
            "outputs": [
                {
                    "execution_count": 14, 
                    "metadata": {}, 
                    "data": {
                        "text/html": "<div>\n<style scoped>\n    .dataframe tbody tr th:only-of-type {\n        vertical-align: middle;\n    }\n\n    .dataframe tbody tr th {\n        vertical-align: top;\n    }\n\n    .dataframe thead th {\n        text-align: right;\n    }\n</style>\n<table border=\"1\" class=\"dataframe\">\n  <thead>\n    <tr style=\"text-align: right;\">\n      <th></th>\n      <th>PostalCode</th>\n      <th>Borough</th>\n      <th>Neighborhood</th>\n      <th>Latitude</th>\n      <th>Longitude</th>\n    </tr>\n  </thead>\n  <tbody>\n    <tr>\n      <th>2</th>\n      <td>M3A</td>\n      <td>North York</td>\n      <td>Parkwoods</td>\n      <td>43.753259</td>\n      <td>-79.329656</td>\n    </tr>\n    <tr>\n      <th>3</th>\n      <td>M4A</td>\n      <td>North York</td>\n      <td>Victoria Village</td>\n      <td>43.725882</td>\n      <td>-79.315572</td>\n    </tr>\n    <tr>\n      <th>4</th>\n      <td>M5A</td>\n      <td>Downtown Toronto</td>\n      <td>Harbourfront</td>\n      <td>43.654260</td>\n      <td>-79.360636</td>\n    </tr>\n    <tr>\n      <th>5</th>\n      <td>M5A</td>\n      <td>Downtown Toronto</td>\n      <td>Regent Park</td>\n      <td>43.654260</td>\n      <td>-79.360636</td>\n    </tr>\n    <tr>\n      <th>6</th>\n      <td>M6A</td>\n      <td>North York</td>\n      <td>Lawrence Heights</td>\n      <td>43.718518</td>\n      <td>-79.464763</td>\n    </tr>\n  </tbody>\n</table>\n</div>", 
                        "text/plain": "  PostalCode           Borough      Neighborhood   Latitude  Longitude\n2        M3A        North York         Parkwoods  43.753259 -79.329656\n3        M4A        North York  Victoria Village  43.725882 -79.315572\n4        M5A  Downtown Toronto      Harbourfront  43.654260 -79.360636\n5        M5A  Downtown Toronto       Regent Park  43.654260 -79.360636\n6        M6A        North York  Lawrence Heights  43.718518 -79.464763"
                    }, 
                    "output_type": "execute_result"
                }
            ], 
            "source": "df.head()"
        }, 
        {
            "source": "# Part 2 : Explore Restaurants in Toronto", 
            "cell_type": "markdown", 
            "metadata": {}
        }, 
        {
            "execution_count": 17, 
            "cell_type": "code", 
            "metadata": {}, 
            "outputs": [
                {
                    "output_type": "stream", 
                    "name": "stdout", 
                    "text": "Solving environment: done\n\n## Package Plan ##\n\n  environment location: /opt/ibm/conda/miniconda3\n\n  added / updated specs: \n    - folium=0.5.0\n\n\nThe following packages will be downloaded:\n\n    package                    |            build\n    ---------------------------|-----------------\n    folium-0.5.0               |             py_0          45 KB  conda-forge\n    altair-2.2.2               |           py35_1         462 KB  conda-forge\n    vincent-0.4.4              |             py_1          28 KB  conda-forge\n    branca-0.3.0               |             py_0          24 KB  conda-forge\n    ------------------------------------------------------------\n                                           Total:         559 KB\n\nThe following NEW packages will be INSTALLED:\n\n    altair:  2.2.2-py35_1 conda-forge\n    branca:  0.3.0-py_0   conda-forge\n    folium:  0.5.0-py_0   conda-forge\n    vincent: 0.4.4-py_1   conda-forge\n\n\nDownloading and Extracting Packages\nfolium-0.5.0         | 45 KB     | ##################################### | 100% \naltair-2.2.2         | 462 KB    | ##################################### | 100% \nvincent-0.4.4        | 28 KB     | ##################################### | 100% \nbranca-0.3.0         | 24 KB     | ##################################### | 100% \nPreparing transaction: done\nVerifying transaction: done\nExecuting transaction: done\n"
                }
            ], 
            "source": "!conda install -c conda-forge folium=0.5.0 --yes "
        }, 
        {
            "execution_count": 18, 
            "cell_type": "code", 
            "metadata": {}, 
            "outputs": [], 
            "source": "import folium # map rendering library"
        }, 
        {
            "execution_count": 19, 
            "cell_type": "code", 
            "metadata": {}, 
            "outputs": [], 
            "source": "# The code was removed by Watson Studio for sharing."
        }, 
        {
            "execution_count": 20, 
            "cell_type": "code", 
            "metadata": {}, 
            "outputs": [
                {
                    "output_type": "stream", 
                    "name": "stdout", 
                    "text": "43.649291867567555 -79.38530255945946\n"
                }
            ], 
            "source": "# average lat long of downtown toronto\nlat = df[df.Borough == 'Downtown Toronto'].Latitude.mean()\nlng = df[df.Borough == 'Downtown Toronto'].Longitude.mean()\nprint(lat, lng)"
        }, 
        {
            "execution_count": 21, 
            "cell_type": "code", 
            "metadata": {}, 
            "outputs": [
                {
                    "execution_count": 21, 
                    "metadata": {}, 
                    "data": {
                        "text/html": "<div style=\"width:100%;\"><div style=\"position:relative;width:100%;height:0;padding-bottom:60%;\"><iframe src=\"data:text/html;charset=utf-8;base64,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\" style=\"position:absolute;width:100%;height:100%;left:0;top:0;border:none !important;\" allowfullscreen webkitallowfullscreen mozallowfullscreen></iframe></div></div>", 
                        "text/plain": "<folium.folium.Map at 0x7f6f2de827b8>"
                    }, 
                    "output_type": "execute_result"
                }
            ], 
            "source": "# map of downtown toronto\nmap_toronto = folium.Map(location=[lat, lng], zoom_start=11)\nmap_toronto"
        }, 
        {
            "execution_count": 22, 
            "cell_type": "code", 
            "metadata": {}, 
            "outputs": [], 
            "source": "import requests\n\nradius = 50000\nLIMIT = 100\nurl = 'https://api.foursquare.com/v2/venues/explore?&client_id={}&client_secret={}&v={}&ll={},{}&radius={}&limit={}'.format(\n    CLIENT_ID, \n    CLIENT_SECRET, \n    VERSION, \n    lat, \n    lng, \n    radius, \n    LIMIT)\nresults = requests.get(url).json()"
        }, 
        {
            "execution_count": 23, 
            "cell_type": "code", 
            "metadata": {}, 
            "outputs": [
                {
                    "execution_count": 23, 
                    "metadata": {}, 
                    "data": {
                        "text/html": "<div>\n<style scoped>\n    .dataframe tbody tr th:only-of-type {\n        vertical-align: middle;\n    }\n\n    .dataframe tbody tr th {\n        vertical-align: top;\n    }\n\n    .dataframe thead th {\n        text-align: right;\n    }\n</style>\n<table border=\"1\" class=\"dataframe\">\n  <thead>\n    <tr style=\"text-align: right;\">\n      <th></th>\n      <th>name</th>\n      <th>categories</th>\n      <th>lat</th>\n      <th>lng</th>\n    </tr>\n  </thead>\n  <tbody>\n    <tr>\n      <th>0</th>\n      <td>Byblos Toronto</td>\n      <td>Mediterranean Restaurant</td>\n      <td>43.647615</td>\n      <td>-79.388381</td>\n    </tr>\n    <tr>\n      <th>1</th>\n      <td>Pai</td>\n      <td>Thai Restaurant</td>\n      <td>43.647923</td>\n      <td>-79.388579</td>\n    </tr>\n    <tr>\n      <th>2</th>\n      <td>Downtown Toronto</td>\n      <td>Neighborhood</td>\n      <td>43.653232</td>\n      <td>-79.385296</td>\n    </tr>\n    <tr>\n      <th>3</th>\n      <td>TIFF Bell Lightbox</td>\n      <td>Movie Theater</td>\n      <td>43.646438</td>\n      <td>-79.390123</td>\n    </tr>\n    <tr>\n      <th>4</th>\n      <td>Steam Whistle Brewing</td>\n      <td>Brewery</td>\n      <td>43.641095</td>\n      <td>-79.385115</td>\n    </tr>\n  </tbody>\n</table>\n</div>", 
                        "text/plain": "                    name                categories        lat        lng\n0         Byblos Toronto  Mediterranean Restaurant  43.647615 -79.388381\n1                    Pai           Thai Restaurant  43.647923 -79.388579\n2       Downtown Toronto              Neighborhood  43.653232 -79.385296\n3     TIFF Bell Lightbox             Movie Theater  43.646438 -79.390123\n4  Steam Whistle Brewing                   Brewery  43.641095 -79.385115"
                    }, 
                    "output_type": "execute_result"
                }
            ], 
            "source": "from pandas.io.json import json_normalize\n\ndef get_category_type(row):\n    try:\n        categories_list = row['categories']\n    except:\n        categories_list = row['venue.categories']\n        \n    if len(categories_list) == 0:\n        return None\n    else:\n        return categories_list[0]['name']\n    \nvenues = results['response']['groups'][0]['items']\n    \nnearby_venues = json_normalize(venues) # flatten JSON\n\n# filter columns\nfiltered_columns = ['venue.name', 'venue.categories', 'venue.location.lat', 'venue.location.lng']\nnearby_venues =nearby_venues.loc[:, filtered_columns]\n\n# filter the category for each row\nnearby_venues['venue.categories'] = nearby_venues.apply(get_category_type, axis=1)\n\n# clean columns\nnearby_venues.columns = [col.split(\".\")[-1] for col in nearby_venues.columns]\n\nnearby_venues.head()"
        }, 
        {
            "execution_count": 24, 
            "cell_type": "code", 
            "metadata": {}, 
            "outputs": [
                {
                    "execution_count": 24, 
                    "metadata": {}, 
                    "data": {
                        "text/html": "<div>\n<style scoped>\n    .dataframe tbody tr th:only-of-type {\n        vertical-align: middle;\n    }\n\n    .dataframe tbody tr th {\n        vertical-align: top;\n    }\n\n    .dataframe thead th {\n        text-align: right;\n    }\n</style>\n<table border=\"1\" class=\"dataframe\">\n  <thead>\n    <tr style=\"text-align: right;\">\n      <th></th>\n      <th>name</th>\n      <th>categories</th>\n      <th>lat</th>\n      <th>lng</th>\n    </tr>\n  </thead>\n  <tbody>\n    <tr>\n      <th>0</th>\n      <td>Byblos Toronto</td>\n      <td>Mediterranean Restaurant</td>\n      <td>43.647615</td>\n      <td>-79.388381</td>\n    </tr>\n    <tr>\n      <th>1</th>\n      <td>Pai</td>\n      <td>Thai Restaurant</td>\n      <td>43.647923</td>\n      <td>-79.388579</td>\n    </tr>\n    <tr>\n      <th>7</th>\n      <td>Richmond Station</td>\n      <td>American Restaurant</td>\n      <td>43.651569</td>\n      <td>-79.379266</td>\n    </tr>\n    <tr>\n      <th>9</th>\n      <td>Alo</td>\n      <td>French Restaurant</td>\n      <td>43.648574</td>\n      <td>-79.396243</td>\n    </tr>\n    <tr>\n      <th>18</th>\n      <td>Canoe</td>\n      <td>Restaurant</td>\n      <td>43.647452</td>\n      <td>-79.381320</td>\n    </tr>\n    <tr>\n      <th>28</th>\n      <td>Seven Lives - Tacos y Mariscos</td>\n      <td>Mexican Restaurant</td>\n      <td>43.654418</td>\n      <td>-79.400545</td>\n    </tr>\n    <tr>\n      <th>38</th>\n      <td>Patria</td>\n      <td>Spanish Restaurant</td>\n      <td>43.645384</td>\n      <td>-79.396478</td>\n    </tr>\n    <tr>\n      <th>39</th>\n      <td>Colette Grand Caf\u00e9</td>\n      <td>Restaurant</td>\n      <td>43.642844</td>\n      <td>-79.400949</td>\n    </tr>\n    <tr>\n      <th>41</th>\n      <td>Wilbur Mexicana</td>\n      <td>Mexican Restaurant</td>\n      <td>43.644810</td>\n      <td>-79.398644</td>\n    </tr>\n    <tr>\n      <th>42</th>\n      <td>Bar Buca</td>\n      <td>Italian Restaurant</td>\n      <td>43.643944</td>\n      <td>-79.399922</td>\n    </tr>\n    <tr>\n      <th>47</th>\n      <td>TOCA</td>\n      <td>Italian Restaurant</td>\n      <td>43.645431</td>\n      <td>-79.387059</td>\n    </tr>\n    <tr>\n      <th>53</th>\n      <td>Gusto 101</td>\n      <td>Italian Restaurant</td>\n      <td>43.644988</td>\n      <td>-79.400270</td>\n    </tr>\n    <tr>\n      <th>55</th>\n      <td>Le S\u00e9lect Bistro</td>\n      <td>French Restaurant</td>\n      <td>43.643699</td>\n      <td>-79.396667</td>\n    </tr>\n    <tr>\n      <th>57</th>\n      <td>Rasa</td>\n      <td>Restaurant</td>\n      <td>43.662757</td>\n      <td>-79.403988</td>\n    </tr>\n    <tr>\n      <th>58</th>\n      <td>Kinka Izakaya Original</td>\n      <td>Japanese Restaurant</td>\n      <td>43.660596</td>\n      <td>-79.378891</td>\n    </tr>\n    <tr>\n      <th>60</th>\n      <td>Bar Raval</td>\n      <td>Tapas Restaurant</td>\n      <td>43.655904</td>\n      <td>-79.410125</td>\n    </tr>\n    <tr>\n      <th>61</th>\n      <td>Rodney's Oyster House</td>\n      <td>Seafood Restaurant</td>\n      <td>43.644975</td>\n      <td>-79.396587</td>\n    </tr>\n    <tr>\n      <th>80</th>\n      <td>GEORGE Restaurant</td>\n      <td>Restaurant</td>\n      <td>43.653346</td>\n      <td>-79.374445</td>\n    </tr>\n    <tr>\n      <th>82</th>\n      <td>Souk Tabule</td>\n      <td>Mediterranean Restaurant</td>\n      <td>43.653756</td>\n      <td>-79.354390</td>\n    </tr>\n    <tr>\n      <th>83</th>\n      <td>OddSeoul</td>\n      <td>Korean Restaurant</td>\n      <td>43.646192</td>\n      <td>-79.419601</td>\n    </tr>\n    <tr>\n      <th>90</th>\n      <td>Isshin Ramen \u4e00\u5fc3</td>\n      <td>Ramen Restaurant</td>\n      <td>43.656517</td>\n      <td>-79.406945</td>\n    </tr>\n    <tr>\n      <th>98</th>\n      <td>Union Restaurant</td>\n      <td>French Restaurant</td>\n      <td>43.645860</td>\n      <td>-79.419532</td>\n    </tr>\n  </tbody>\n</table>\n</div>", 
                        "text/plain": "                              name                categories        lat  \\\n0                   Byblos Toronto  Mediterranean Restaurant  43.647615   \n1                              Pai           Thai Restaurant  43.647923   \n7                 Richmond Station       American Restaurant  43.651569   \n9                              Alo         French Restaurant  43.648574   \n18                           Canoe                Restaurant  43.647452   \n28  Seven Lives - Tacos y Mariscos        Mexican Restaurant  43.654418   \n38                          Patria        Spanish Restaurant  43.645384   \n39              Colette Grand Caf\u00e9                Restaurant  43.642844   \n41                 Wilbur Mexicana        Mexican Restaurant  43.644810   \n42                        Bar Buca        Italian Restaurant  43.643944   \n47                            TOCA        Italian Restaurant  43.645431   \n53                       Gusto 101        Italian Restaurant  43.644988   \n55                Le S\u00e9lect Bistro         French Restaurant  43.643699   \n57                            Rasa                Restaurant  43.662757   \n58          Kinka Izakaya Original       Japanese Restaurant  43.660596   \n60                       Bar Raval          Tapas Restaurant  43.655904   \n61           Rodney's Oyster House        Seafood Restaurant  43.644975   \n80               GEORGE Restaurant                Restaurant  43.653346   \n82                     Souk Tabule  Mediterranean Restaurant  43.653756   \n83                        OddSeoul         Korean Restaurant  43.646192   \n90                 Isshin Ramen \u4e00\u5fc3          Ramen Restaurant  43.656517   \n98                Union Restaurant         French Restaurant  43.645860   \n\n          lng  \n0  -79.388381  \n1  -79.388579  \n7  -79.379266  \n9  -79.396243  \n18 -79.381320  \n28 -79.400545  \n38 -79.396478  \n39 -79.400949  \n41 -79.398644  \n42 -79.399922  \n47 -79.387059  \n53 -79.400270  \n55 -79.396667  \n57 -79.403988  \n58 -79.378891  \n60 -79.410125  \n61 -79.396587  \n80 -79.374445  \n82 -79.354390  \n83 -79.419601  \n90 -79.406945  \n98 -79.419532  "
                    }, 
                    "output_type": "execute_result"
                }
            ], 
            "source": "nv = nearby_venues\nnv = nv[nv.categories.str.endswith('Restaurant')]\nnv"
        }, 
        {
            "source": "# Part 3 : Find most popular restaurant category\nGroup by categories and sort by frequency.", 
            "cell_type": "markdown", 
            "metadata": {}
        }, 
        {
            "execution_count": 25, 
            "cell_type": "code", 
            "metadata": {}, 
            "outputs": [
                {
                    "execution_count": 25, 
                    "metadata": {}, 
                    "data": {
                        "text/html": "<div>\n<style scoped>\n    .dataframe tbody tr th:only-of-type {\n        vertical-align: middle;\n    }\n\n    .dataframe tbody tr th {\n        vertical-align: top;\n    }\n\n    .dataframe thead th {\n        text-align: right;\n    }\n</style>\n<table border=\"1\" class=\"dataframe\">\n  <thead>\n    <tr style=\"text-align: right;\">\n      <th></th>\n      <th>categories</th>\n      <th>name</th>\n      <th>lat</th>\n      <th>lng</th>\n    </tr>\n  </thead>\n  <tbody>\n    <tr>\n      <th>0</th>\n      <td>Restaurant</td>\n      <td>4</td>\n      <td>4</td>\n      <td>4</td>\n    </tr>\n    <tr>\n      <th>1</th>\n      <td>French Restaurant</td>\n      <td>3</td>\n      <td>3</td>\n      <td>3</td>\n    </tr>\n    <tr>\n      <th>2</th>\n      <td>Italian Restaurant</td>\n      <td>3</td>\n      <td>3</td>\n      <td>3</td>\n    </tr>\n    <tr>\n      <th>3</th>\n      <td>Mediterranean Restaurant</td>\n      <td>2</td>\n      <td>2</td>\n      <td>2</td>\n    </tr>\n    <tr>\n      <th>4</th>\n      <td>Mexican Restaurant</td>\n      <td>2</td>\n      <td>2</td>\n      <td>2</td>\n    </tr>\n    <tr>\n      <th>5</th>\n      <td>American Restaurant</td>\n      <td>1</td>\n      <td>1</td>\n      <td>1</td>\n    </tr>\n    <tr>\n      <th>6</th>\n      <td>Japanese Restaurant</td>\n      <td>1</td>\n      <td>1</td>\n      <td>1</td>\n    </tr>\n    <tr>\n      <th>7</th>\n      <td>Korean Restaurant</td>\n      <td>1</td>\n      <td>1</td>\n      <td>1</td>\n    </tr>\n    <tr>\n      <th>8</th>\n      <td>Ramen Restaurant</td>\n      <td>1</td>\n      <td>1</td>\n      <td>1</td>\n    </tr>\n    <tr>\n      <th>9</th>\n      <td>Seafood Restaurant</td>\n      <td>1</td>\n      <td>1</td>\n      <td>1</td>\n    </tr>\n    <tr>\n      <th>10</th>\n      <td>Spanish Restaurant</td>\n      <td>1</td>\n      <td>1</td>\n      <td>1</td>\n    </tr>\n    <tr>\n      <th>11</th>\n      <td>Tapas Restaurant</td>\n      <td>1</td>\n      <td>1</td>\n      <td>1</td>\n    </tr>\n    <tr>\n      <th>12</th>\n      <td>Thai Restaurant</td>\n      <td>1</td>\n      <td>1</td>\n      <td>1</td>\n    </tr>\n  </tbody>\n</table>\n</div>", 
                        "text/plain": "                  categories  name  lat  lng\n0                 Restaurant     4    4    4\n1          French Restaurant     3    3    3\n2         Italian Restaurant     3    3    3\n3   Mediterranean Restaurant     2    2    2\n4         Mexican Restaurant     2    2    2\n5        American Restaurant     1    1    1\n6        Japanese Restaurant     1    1    1\n7          Korean Restaurant     1    1    1\n8           Ramen Restaurant     1    1    1\n9         Seafood Restaurant     1    1    1\n10        Spanish Restaurant     1    1    1\n11          Tapas Restaurant     1    1    1\n12           Thai Restaurant     1    1    1"
                    }, 
                    "output_type": "execute_result"
                }
            ], 
            "source": "g = nv.groupby('categories').count().sort_values('name', ascending=False).reset_index()\ng"
        }, 
        {
            "source": "Get restaurants in top 4 categories", 
            "cell_type": "markdown", 
            "metadata": {}
        }, 
        {
            "execution_count": 26, 
            "cell_type": "code", 
            "metadata": {}, 
            "outputs": [
                {
                    "execution_count": 26, 
                    "metadata": {}, 
                    "data": {
                        "text/plain": "0           French Restaurant\n1          Italian Restaurant\n2    Mediterranean Restaurant\n3          Mexican Restaurant\nName: categories, dtype: object"
                    }, 
                    "output_type": "execute_result"
                }
            ], 
            "source": "cat = g.iloc[1:5,].reset_index().categories\ncat"
        }, 
        {
            "execution_count": 27, 
            "cell_type": "code", 
            "metadata": {}, 
            "outputs": [
                {
                    "execution_count": 27, 
                    "metadata": {}, 
                    "data": {
                        "text/html": "<div>\n<style scoped>\n    .dataframe tbody tr th:only-of-type {\n        vertical-align: middle;\n    }\n\n    .dataframe tbody tr th {\n        vertical-align: top;\n    }\n\n    .dataframe thead th {\n        text-align: right;\n    }\n</style>\n<table border=\"1\" class=\"dataframe\">\n  <thead>\n    <tr style=\"text-align: right;\">\n      <th></th>\n      <th>name</th>\n      <th>categories</th>\n      <th>lat</th>\n      <th>lng</th>\n    </tr>\n  </thead>\n  <tbody>\n    <tr>\n      <th>0</th>\n      <td>Byblos Toronto</td>\n      <td>Mediterranean Restaurant</td>\n      <td>43.647615</td>\n      <td>-79.388381</td>\n    </tr>\n    <tr>\n      <th>9</th>\n      <td>Alo</td>\n      <td>French Restaurant</td>\n      <td>43.648574</td>\n      <td>-79.396243</td>\n    </tr>\n    <tr>\n      <th>28</th>\n      <td>Seven Lives - Tacos y Mariscos</td>\n      <td>Mexican Restaurant</td>\n      <td>43.654418</td>\n      <td>-79.400545</td>\n    </tr>\n    <tr>\n      <th>41</th>\n      <td>Wilbur Mexicana</td>\n      <td>Mexican Restaurant</td>\n      <td>43.644810</td>\n      <td>-79.398644</td>\n    </tr>\n    <tr>\n      <th>42</th>\n      <td>Bar Buca</td>\n      <td>Italian Restaurant</td>\n      <td>43.643944</td>\n      <td>-79.399922</td>\n    </tr>\n    <tr>\n      <th>47</th>\n      <td>TOCA</td>\n      <td>Italian Restaurant</td>\n      <td>43.645431</td>\n      <td>-79.387059</td>\n    </tr>\n    <tr>\n      <th>53</th>\n      <td>Gusto 101</td>\n      <td>Italian Restaurant</td>\n      <td>43.644988</td>\n      <td>-79.400270</td>\n    </tr>\n    <tr>\n      <th>55</th>\n      <td>Le S\u00e9lect Bistro</td>\n      <td>French Restaurant</td>\n      <td>43.643699</td>\n      <td>-79.396667</td>\n    </tr>\n    <tr>\n      <th>82</th>\n      <td>Souk Tabule</td>\n      <td>Mediterranean Restaurant</td>\n      <td>43.653756</td>\n      <td>-79.354390</td>\n    </tr>\n    <tr>\n      <th>98</th>\n      <td>Union Restaurant</td>\n      <td>French Restaurant</td>\n      <td>43.645860</td>\n      <td>-79.419532</td>\n    </tr>\n  </tbody>\n</table>\n</div>", 
                        "text/plain": "                              name                categories        lat  \\\n0                   Byblos Toronto  Mediterranean Restaurant  43.647615   \n9                              Alo         French Restaurant  43.648574   \n28  Seven Lives - Tacos y Mariscos        Mexican Restaurant  43.654418   \n41                 Wilbur Mexicana        Mexican Restaurant  43.644810   \n42                        Bar Buca        Italian Restaurant  43.643944   \n47                            TOCA        Italian Restaurant  43.645431   \n53                       Gusto 101        Italian Restaurant  43.644988   \n55                Le S\u00e9lect Bistro         French Restaurant  43.643699   \n82                     Souk Tabule  Mediterranean Restaurant  43.653756   \n98                Union Restaurant         French Restaurant  43.645860   \n\n          lng  \n0  -79.388381  \n9  -79.396243  \n28 -79.400545  \n41 -79.398644  \n42 -79.399922  \n47 -79.387059  \n53 -79.400270  \n55 -79.396667  \n82 -79.354390  \n98 -79.419532  "
                    }, 
                    "output_type": "execute_result"
                }
            ], 
            "source": "a = nv.categories == cat[0]\nb = nv.categories == cat[1]\nc = nv.categories == cat[2]\nd = nv.categories == cat[3]\nnv = nv[a | b | c | d]\nnv"
        }, 
        {
            "source": "Visualize those locations in the map", 
            "cell_type": "markdown", 
            "metadata": {}
        }, 
        {
            "execution_count": 28, 
            "cell_type": "code", 
            "metadata": {}, 
            "outputs": [], 
            "source": "import matplotlib.cm as cm\nimport matplotlib.colors as colors\n\nmap_clusters = folium.Map(location=[lat, lng], zoom_start=13)\n\ncolors_array = cm.rainbow(np.linspace(0, 1, len(cat)))\ncdict = {cat[i]:colors.rgb2hex(colors_array[i]) for i in range(len(cat))}\n"
        }, 
        {
            "execution_count": 29, 
            "cell_type": "code", 
            "metadata": {}, 
            "outputs": [
                {
                    "execution_count": 29, 
                    "metadata": {}, 
                    "data": {
                        "text/html": "<div style=\"width:100%;\"><div style=\"position:relative;width:100%;height:0;padding-bottom:60%;\"><iframe src=\"data:text/html;charset=utf-8;base64,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\" style=\"position:absolute;width:100%;height:100%;left:0;top:0;border:none !important;\" allowfullscreen webkitallowfullscreen mozallowfullscreen></iframe></div></div>", 
                        "text/plain": "<folium.folium.Map at 0x7f6f2de8e940>"
                    }, 
                    "output_type": "execute_result"
                }
            ], 
            "source": "markers_colors = []\nfor lat, lon, poi in zip(nv['lat'], nv['lng'], nv['categories']):\n    label = folium.Popup(str(poi) + ' Cluster ', parse_html=True)\n    folium.CircleMarker(\n        [lat, lon],\n        radius=5,\n        popup=poi,\n        color=cdict[poi],\n        fill=True,\n        fill_color=cdict[poi],\n        fill_opacity=0.7).add_to(map_clusters)\n       \nmap_clusters"
        }, 
        {
            "source": "<img src=\"https://cdn.pbrd.co/images/HDXlE02.png\" />", 
            "cell_type": "markdown", 
            "attachments": {}, 
            "metadata": {}
        }, 
        {
            "execution_count": null, 
            "cell_type": "code", 
            "metadata": {}, 
            "outputs": [], 
            "source": ""
        }
    ], 
    "metadata": {
        "kernelspec": {
            "display_name": "Python 3.5 with Spark", 
            "name": "python3", 
            "language": "python3"
        }, 
        "language_info": {
            "mimetype": "text/x-python", 
            "nbconvert_exporter": "python", 
            "version": "3.5.4", 
            "name": "python", 
            "file_extension": ".py", 
            "pygments_lexer": "ipython3", 
            "codemirror_mode": {
                "version": 3, 
                "name": "ipython"
            }
        }
    }, 
    "nbformat": 4
}