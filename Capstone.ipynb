{
    "nbformat_minor": 1, 
    "cells": [
        {
            "source": "# Scrap Wikipedia Data\n\nDownload wikipedia data", 
            "cell_type": "markdown", 
            "metadata": {}
        }, 
        {
            "execution_count": 157, 
            "cell_type": "code", 
            "metadata": {}, 
            "outputs": [], 
            "source": "!wget -q -O 'postal.html' https://en.wikipedia.org/wiki/List_of_postal_codes_of_Canada:_M"
        }, 
        {
            "source": "Parse the data using BeautifulSoup", 
            "cell_type": "markdown", 
            "metadata": {}
        }, 
        {
            "execution_count": 158, 
            "cell_type": "code", 
            "metadata": {}, 
            "outputs": [], 
            "source": "from bs4 import BeautifulSoup\n\nwith open('postal.html', encoding='utf-8') as html_doc:   # utf-8\n    soup = BeautifulSoup(html_doc, 'html.parser')"
        }, 
        {
            "source": "The required data is in `td` tag", 
            "cell_type": "markdown", 
            "metadata": {}
        }, 
        {
            "execution_count": 159, 
            "cell_type": "code", 
            "metadata": {}, 
            "outputs": [
                {
                    "execution_count": 159, 
                    "metadata": {}, 
                    "data": {
                        "text/plain": "[<td>M1A</td>, <td>Not assigned</td>, <td>Not assigned\n </td>, <td>M2A</td>, <td>Not assigned</td>, <td>Not assigned\n </td>, <td>M3A</td>, <td><a href=\"/wiki/North_York\" title=\"North York\">North York</a></td>, <td><a href=\"/wiki/Parkwoods\" title=\"Parkwoods\">Parkwoods</a>\n </td>, <td>M4A</td>]"
                    }, 
                    "output_type": "execute_result"
                }
            ], 
            "source": "soup('td')[:10]"
        }, 
        {
            "source": "Add all `td` in a numpy array.  Stop when found empty string. Resize the array to create a data frame", 
            "cell_type": "markdown", 
            "metadata": {}
        }, 
        {
            "execution_count": 160, 
            "cell_type": "code", 
            "metadata": {}, 
            "outputs": [
                {
                    "output_type": "stream", 
                    "name": "stdout", 
                    "text": "(867,)\n(289, 3)\n"
                }
            ], 
            "source": "import numpy as np\n\na = []\nfor tag in soup('td'):\n    s = tag.text.strip()\n    if s == '': break\n    a.append(s)\n    \na = np.array(a)\nprint(a.shape)\na = a.reshape((-1,3))\nprint(a.shape)"
        }, 
        {
            "source": "Create a DataFrame", 
            "cell_type": "markdown", 
            "metadata": {}
        }, 
        {
            "execution_count": 161, 
            "cell_type": "code", 
            "metadata": {}, 
            "outputs": [
                {
                    "execution_count": 161, 
                    "metadata": {}, 
                    "data": {
                        "text/html": "<div>\n<style scoped>\n    .dataframe tbody tr th:only-of-type {\n        vertical-align: middle;\n    }\n\n    .dataframe tbody tr th {\n        vertical-align: top;\n    }\n\n    .dataframe thead th {\n        text-align: right;\n    }\n</style>\n<table border=\"1\" class=\"dataframe\">\n  <thead>\n    <tr style=\"text-align: right;\">\n      <th></th>\n      <th>PostalCode</th>\n      <th>Borough</th>\n      <th>Neighborhood</th>\n    </tr>\n  </thead>\n  <tbody>\n    <tr>\n      <th>0</th>\n      <td>M1A</td>\n      <td>Not assigned</td>\n      <td>Not assigned</td>\n    </tr>\n    <tr>\n      <th>1</th>\n      <td>M2A</td>\n      <td>Not assigned</td>\n      <td>Not assigned</td>\n    </tr>\n    <tr>\n      <th>2</th>\n      <td>M3A</td>\n      <td>North York</td>\n      <td>Parkwoods</td>\n    </tr>\n    <tr>\n      <th>3</th>\n      <td>M4A</td>\n      <td>North York</td>\n      <td>Victoria Village</td>\n    </tr>\n    <tr>\n      <th>4</th>\n      <td>M5A</td>\n      <td>Downtown Toronto</td>\n      <td>Harbourfront</td>\n    </tr>\n  </tbody>\n</table>\n</div>", 
                        "text/plain": "  PostalCode           Borough      Neighborhood\n0        M1A      Not assigned      Not assigned\n1        M2A      Not assigned      Not assigned\n2        M3A        North York         Parkwoods\n3        M4A        North York  Victoria Village\n4        M5A  Downtown Toronto      Harbourfront"
                    }, 
                    "output_type": "execute_result"
                }
            ], 
            "source": "import pandas as pd\n\ndf = pd.DataFrame(a)   # if dict is used, the column name would not be in this order\ndf.columns = ['PostalCode', 'Borough', 'Neighborhood']\ndf.head()"
        }, 
        {
            "source": "Check missing data", 
            "cell_type": "markdown", 
            "metadata": {}
        }, 
        {
            "execution_count": 162, 
            "cell_type": "code", 
            "metadata": {}, 
            "outputs": [
                {
                    "output_type": "stream", 
                    "name": "stdout", 
                    "text": "77\n1\n0\n"
                }
            ], 
            "source": "print(((df.Borough == 'Not assigned') & (df.Neighborhood == 'Not assigned')).sum())\nprint(((df.Borough != 'Not assigned') & (df.Neighborhood == 'Not assigned')).sum())\nprint(((df.Borough == 'Not assigned') & (df.Neighborhood != 'Not assigned')).sum())"
        }, 
        {
            "source": "Remove missing data", 
            "cell_type": "markdown", 
            "metadata": {}
        }, 
        {
            "execution_count": 163, 
            "cell_type": "code", 
            "metadata": {}, 
            "outputs": [
                {
                    "execution_count": 163, 
                    "metadata": {}, 
                    "data": {
                        "text/html": "<div>\n<style scoped>\n    .dataframe tbody tr th:only-of-type {\n        vertical-align: middle;\n    }\n\n    .dataframe tbody tr th {\n        vertical-align: top;\n    }\n\n    .dataframe thead th {\n        text-align: right;\n    }\n</style>\n<table border=\"1\" class=\"dataframe\">\n  <thead>\n    <tr style=\"text-align: right;\">\n      <th></th>\n      <th>PostalCode</th>\n      <th>Borough</th>\n      <th>Neighborhood</th>\n    </tr>\n  </thead>\n  <tbody>\n    <tr>\n      <th>2</th>\n      <td>M3A</td>\n      <td>North York</td>\n      <td>Parkwoods</td>\n    </tr>\n    <tr>\n      <th>3</th>\n      <td>M4A</td>\n      <td>North York</td>\n      <td>Victoria Village</td>\n    </tr>\n    <tr>\n      <th>4</th>\n      <td>M5A</td>\n      <td>Downtown Toronto</td>\n      <td>Harbourfront</td>\n    </tr>\n    <tr>\n      <th>5</th>\n      <td>M5A</td>\n      <td>Downtown Toronto</td>\n      <td>Regent Park</td>\n    </tr>\n    <tr>\n      <th>6</th>\n      <td>M6A</td>\n      <td>North York</td>\n      <td>Lawrence Heights</td>\n    </tr>\n    <tr>\n      <th>7</th>\n      <td>M6A</td>\n      <td>North York</td>\n      <td>Lawrence Manor</td>\n    </tr>\n    <tr>\n      <th>8</th>\n      <td>M7A</td>\n      <td>Queen's Park</td>\n      <td>Queen's Park</td>\n    </tr>\n    <tr>\n      <th>10</th>\n      <td>M9A</td>\n      <td>Etobicoke</td>\n      <td>Islington Avenue</td>\n    </tr>\n    <tr>\n      <th>11</th>\n      <td>M1B</td>\n      <td>Scarborough</td>\n      <td>Rouge</td>\n    </tr>\n    <tr>\n      <th>12</th>\n      <td>M1B</td>\n      <td>Scarborough</td>\n      <td>Malvern</td>\n    </tr>\n  </tbody>\n</table>\n</div>", 
                        "text/plain": "   PostalCode           Borough      Neighborhood\n2         M3A        North York         Parkwoods\n3         M4A        North York  Victoria Village\n4         M5A  Downtown Toronto      Harbourfront\n5         M5A  Downtown Toronto       Regent Park\n6         M6A        North York  Lawrence Heights\n7         M6A        North York    Lawrence Manor\n8         M7A      Queen's Park      Queen's Park\n10        M9A         Etobicoke  Islington Avenue\n11        M1B       Scarborough             Rouge\n12        M1B       Scarborough           Malvern"
                    }, 
                    "output_type": "execute_result"
                }
            ], 
            "source": "df = df[(df.Borough != 'Not assigned') | (df.Neighborhood != 'Not assigned')]\n\ns = df[df.Neighborhood == 'Not assigned'].Borough\ndf.loc[df.Neighborhood == 'Not assigned', 'Neighborhood'] = s\n\ndf.head(10)"
        }, 
        {
            "execution_count": 164, 
            "cell_type": "code", 
            "metadata": {}, 
            "outputs": [
                {
                    "execution_count": 164, 
                    "metadata": {}, 
                    "data": {
                        "text/plain": "(212, 3)"
                    }, 
                    "output_type": "execute_result"
                }
            ], 
            "source": "df.shape"
        }, 
        {
            "execution_count": 165, 
            "cell_type": "code", 
            "metadata": {}, 
            "outputs": [
                {
                    "output_type": "stream", 
                    "name": "stdout", 
                    "text": "Solving environment: done\n\n# All requested packages already installed.\n\n"
                }
            ], 
            "source": "!conda install -c conda-forge geocoder --yes"
        }, 
        {
            "execution_count": 166, 
            "cell_type": "code", 
            "metadata": {}, 
            "outputs": [], 
            "source": "import geocoder\n\ndef get_location(postal_code):\n  # initialize your variable to None\n  lat_lng_coords = None\n    \n  # loop until you get the coordinates\n  while(lat_lng_coords is None):\n    g = geocoder.google('{}, Toronto, Ontario'.format(postal_code))\n    lat_lng_coords = g.latlng\n  \n  return pd.Series((lat_lng_coords[0], lat_lng_coords[1]))   # return Series\n\ndf[['Latitude', 'Longitude']] = df.PostalCode.apply(get_location)"
        }, 
        {
            "execution_count": 167, 
            "cell_type": "code", 
            "metadata": {}, 
            "outputs": [
                {
                    "execution_count": 167, 
                    "metadata": {}, 
                    "data": {
                        "text/html": "<div>\n<style scoped>\n    .dataframe tbody tr th:only-of-type {\n        vertical-align: middle;\n    }\n\n    .dataframe tbody tr th {\n        vertical-align: top;\n    }\n\n    .dataframe thead th {\n        text-align: right;\n    }\n</style>\n<table border=\"1\" class=\"dataframe\">\n  <thead>\n    <tr style=\"text-align: right;\">\n      <th></th>\n      <th>PostalCode</th>\n      <th>Borough</th>\n      <th>Neighborhood</th>\n      <th>Latitude</th>\n      <th>Longitude</th>\n    </tr>\n  </thead>\n  <tbody>\n    <tr>\n      <th>2</th>\n      <td>M3A</td>\n      <td>North York</td>\n      <td>Parkwoods</td>\n      <td>43.753259</td>\n      <td>-79.329656</td>\n    </tr>\n    <tr>\n      <th>3</th>\n      <td>M4A</td>\n      <td>North York</td>\n      <td>Victoria Village</td>\n      <td>43.725882</td>\n      <td>-79.315572</td>\n    </tr>\n    <tr>\n      <th>4</th>\n      <td>M5A</td>\n      <td>Downtown Toronto</td>\n      <td>Harbourfront</td>\n      <td>43.654260</td>\n      <td>-79.360636</td>\n    </tr>\n    <tr>\n      <th>5</th>\n      <td>M5A</td>\n      <td>Downtown Toronto</td>\n      <td>Regent Park</td>\n      <td>43.654260</td>\n      <td>-79.360636</td>\n    </tr>\n    <tr>\n      <th>6</th>\n      <td>M6A</td>\n      <td>North York</td>\n      <td>Lawrence Heights</td>\n      <td>43.718518</td>\n      <td>-79.464763</td>\n    </tr>\n  </tbody>\n</table>\n</div>", 
                        "text/plain": "  PostalCode           Borough      Neighborhood   Latitude  Longitude\n2        M3A        North York         Parkwoods  43.753259 -79.329656\n3        M4A        North York  Victoria Village  43.725882 -79.315572\n4        M5A  Downtown Toronto      Harbourfront  43.654260 -79.360636\n5        M5A  Downtown Toronto       Regent Park  43.654260 -79.360636\n6        M6A        North York  Lawrence Heights  43.718518 -79.464763"
                    }, 
                    "output_type": "execute_result"
                }
            ], 
            "source": "df.head()"
        }, 
        {
            "source": "# Explore Restaurants in Toronto", 
            "cell_type": "markdown", 
            "metadata": {}
        }, 
        {
            "execution_count": 168, 
            "cell_type": "code", 
            "metadata": {}, 
            "outputs": [
                {
                    "output_type": "stream", 
                    "name": "stdout", 
                    "text": "Solving environment: done\n\n# All requested packages already installed.\n\n"
                }
            ], 
            "source": "!conda install -c conda-forge folium=0.5.0 --yes \nimport folium # map rendering library"
        }, 
        {
            "execution_count": 169, 
            "cell_type": "code", 
            "metadata": {}, 
            "outputs": [], 
            "source": "# The code was removed by Watson Studio for sharing."
        }, 
        {
            "execution_count": 170, 
            "cell_type": "code", 
            "metadata": {}, 
            "outputs": [
                {
                    "output_type": "stream", 
                    "name": "stdout", 
                    "text": "43.649291867567555 -79.38530255945946\n"
                }
            ], 
            "source": "# average lat long of downtown toronto\nlat = df[df.Borough == 'Downtown Toronto'].Latitude.mean()\nlng = df[df.Borough == 'Downtown Toronto'].Longitude.mean()\nprint(lat, lng)"
        }, 
        {
            "execution_count": 171, 
            "cell_type": "code", 
            "metadata": {}, 
            "outputs": [
                {
                    "execution_count": 171, 
                    "metadata": {}, 
                    "data": {
                        "text/html": "<div style=\"width:100%;\"><div style=\"position:relative;width:100%;height:0;padding-bottom:60%;\"><iframe src=\"data:text/html;charset=utf-8;base64,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\" style=\"position:absolute;width:100%;height:100%;left:0;top:0;border:none !important;\" allowfullscreen webkitallowfullscreen mozallowfullscreen></iframe></div></div>", 
                        "text/plain": "<folium.folium.Map at 0x7f8c94a5cf98>"
                    }, 
                    "output_type": "execute_result"
                }
            ], 
            "source": "# map of downtown toronto\nmap_toronto = folium.Map(location=[lat, lng], zoom_start=11)\nmap_toronto"
        }, 
        {
            "execution_count": 172, 
            "cell_type": "code", 
            "metadata": {}, 
            "outputs": [], 
            "source": "import requests\n\nradius = 50000\nLIMIT = 100\nurl = 'https://api.foursquare.com/v2/venues/explore?&client_id={}&client_secret={}&v={}&ll={},{}&radius={}&limit={}'.format(\n    CLIENT_ID, \n    CLIENT_SECRET, \n    VERSION, \n    lat, \n    lng, \n    radius, \n    LIMIT)\nresults = requests.get(url).json()"
        }, 
        {
            "execution_count": 173, 
            "cell_type": "code", 
            "metadata": {}, 
            "outputs": [
                {
                    "execution_count": 173, 
                    "metadata": {}, 
                    "data": {
                        "text/html": "<div>\n<style scoped>\n    .dataframe tbody tr th:only-of-type {\n        vertical-align: middle;\n    }\n\n    .dataframe tbody tr th {\n        vertical-align: top;\n    }\n\n    .dataframe thead th {\n        text-align: right;\n    }\n</style>\n<table border=\"1\" class=\"dataframe\">\n  <thead>\n    <tr style=\"text-align: right;\">\n      <th></th>\n      <th>name</th>\n      <th>categories</th>\n      <th>lat</th>\n      <th>lng</th>\n    </tr>\n  </thead>\n  <tbody>\n    <tr>\n      <th>0</th>\n      <td>Byblos Toronto</td>\n      <td>Mediterranean Restaurant</td>\n      <td>43.647615</td>\n      <td>-79.388381</td>\n    </tr>\n    <tr>\n      <th>1</th>\n      <td>Pai</td>\n      <td>Thai Restaurant</td>\n      <td>43.647923</td>\n      <td>-79.388579</td>\n    </tr>\n    <tr>\n      <th>2</th>\n      <td>Downtown Toronto</td>\n      <td>Neighborhood</td>\n      <td>43.653232</td>\n      <td>-79.385296</td>\n    </tr>\n    <tr>\n      <th>3</th>\n      <td>TIFF Bell Lightbox</td>\n      <td>Movie Theater</td>\n      <td>43.646438</td>\n      <td>-79.390123</td>\n    </tr>\n    <tr>\n      <th>4</th>\n      <td>Steam Whistle Brewing</td>\n      <td>Brewery</td>\n      <td>43.641095</td>\n      <td>-79.385115</td>\n    </tr>\n  </tbody>\n</table>\n</div>", 
                        "text/plain": "                    name                categories        lat        lng\n0         Byblos Toronto  Mediterranean Restaurant  43.647615 -79.388381\n1                    Pai           Thai Restaurant  43.647923 -79.388579\n2       Downtown Toronto              Neighborhood  43.653232 -79.385296\n3     TIFF Bell Lightbox             Movie Theater  43.646438 -79.390123\n4  Steam Whistle Brewing                   Brewery  43.641095 -79.385115"
                    }, 
                    "output_type": "execute_result"
                }
            ], 
            "source": "from pandas.io.json import json_normalize\n\ndef get_category_type(row):\n    try:\n        categories_list = row['categories']\n    except:\n        categories_list = row['venue.categories']\n        \n    if len(categories_list) == 0:\n        return None\n    else:\n        return categories_list[0]['name']\n    \nvenues = results['response']['groups'][0]['items']\n    \nnearby_venues = json_normalize(venues) # flatten JSON\n\n# filter columns\nfiltered_columns = ['venue.name', 'venue.categories', 'venue.location.lat', 'venue.location.lng']\nnearby_venues =nearby_venues.loc[:, filtered_columns]\n\n# filter the category for each row\nnearby_venues['venue.categories'] = nearby_venues.apply(get_category_type, axis=1)\n\n# clean columns\nnearby_venues.columns = [col.split(\".\")[-1] for col in nearby_venues.columns]\n\nnearby_venues.head()"
        }, 
        {
            "execution_count": 174, 
            "cell_type": "code", 
            "metadata": {}, 
            "outputs": [
                {
                    "execution_count": 174, 
                    "metadata": {}, 
                    "data": {
                        "text/html": "<div>\n<style scoped>\n    .dataframe tbody tr th:only-of-type {\n        vertical-align: middle;\n    }\n\n    .dataframe tbody tr th {\n        vertical-align: top;\n    }\n\n    .dataframe thead th {\n        text-align: right;\n    }\n</style>\n<table border=\"1\" class=\"dataframe\">\n  <thead>\n    <tr style=\"text-align: right;\">\n      <th></th>\n      <th>name</th>\n      <th>categories</th>\n      <th>lat</th>\n      <th>lng</th>\n    </tr>\n  </thead>\n  <tbody>\n    <tr>\n      <th>0</th>\n      <td>Byblos Toronto</td>\n      <td>Mediterranean Restaurant</td>\n      <td>43.647615</td>\n      <td>-79.388381</td>\n    </tr>\n    <tr>\n      <th>1</th>\n      <td>Pai</td>\n      <td>Thai Restaurant</td>\n      <td>43.647923</td>\n      <td>-79.388579</td>\n    </tr>\n    <tr>\n      <th>7</th>\n      <td>Richmond Station</td>\n      <td>American Restaurant</td>\n      <td>43.651569</td>\n      <td>-79.379266</td>\n    </tr>\n    <tr>\n      <th>9</th>\n      <td>Alo</td>\n      <td>French Restaurant</td>\n      <td>43.648574</td>\n      <td>-79.396243</td>\n    </tr>\n    <tr>\n      <th>18</th>\n      <td>Canoe</td>\n      <td>Restaurant</td>\n      <td>43.647452</td>\n      <td>-79.381320</td>\n    </tr>\n    <tr>\n      <th>28</th>\n      <td>Seven Lives - Tacos y Mariscos</td>\n      <td>Mexican Restaurant</td>\n      <td>43.654418</td>\n      <td>-79.400545</td>\n    </tr>\n    <tr>\n      <th>38</th>\n      <td>Patria</td>\n      <td>Spanish Restaurant</td>\n      <td>43.645384</td>\n      <td>-79.396478</td>\n    </tr>\n    <tr>\n      <th>39</th>\n      <td>Colette Grand Caf\u00e9</td>\n      <td>Restaurant</td>\n      <td>43.642844</td>\n      <td>-79.400949</td>\n    </tr>\n    <tr>\n      <th>41</th>\n      <td>Wilbur Mexicana</td>\n      <td>Mexican Restaurant</td>\n      <td>43.644810</td>\n      <td>-79.398644</td>\n    </tr>\n    <tr>\n      <th>42</th>\n      <td>Bar Buca</td>\n      <td>Italian Restaurant</td>\n      <td>43.643944</td>\n      <td>-79.399922</td>\n    </tr>\n    <tr>\n      <th>47</th>\n      <td>TOCA</td>\n      <td>Italian Restaurant</td>\n      <td>43.645431</td>\n      <td>-79.387059</td>\n    </tr>\n    <tr>\n      <th>53</th>\n      <td>Gusto 101</td>\n      <td>Italian Restaurant</td>\n      <td>43.644988</td>\n      <td>-79.400270</td>\n    </tr>\n    <tr>\n      <th>55</th>\n      <td>Le S\u00e9lect Bistro</td>\n      <td>French Restaurant</td>\n      <td>43.643699</td>\n      <td>-79.396667</td>\n    </tr>\n    <tr>\n      <th>57</th>\n      <td>Rasa</td>\n      <td>Restaurant</td>\n      <td>43.662757</td>\n      <td>-79.403988</td>\n    </tr>\n    <tr>\n      <th>58</th>\n      <td>Kinka Izakaya Original</td>\n      <td>Japanese Restaurant</td>\n      <td>43.660596</td>\n      <td>-79.378891</td>\n    </tr>\n    <tr>\n      <th>60</th>\n      <td>Bar Raval</td>\n      <td>Tapas Restaurant</td>\n      <td>43.655904</td>\n      <td>-79.410125</td>\n    </tr>\n    <tr>\n      <th>61</th>\n      <td>Rodney's Oyster House</td>\n      <td>Seafood Restaurant</td>\n      <td>43.644975</td>\n      <td>-79.396587</td>\n    </tr>\n    <tr>\n      <th>80</th>\n      <td>GEORGE Restaurant</td>\n      <td>Restaurant</td>\n      <td>43.653346</td>\n      <td>-79.374445</td>\n    </tr>\n    <tr>\n      <th>82</th>\n      <td>Souk Tabule</td>\n      <td>Mediterranean Restaurant</td>\n      <td>43.653756</td>\n      <td>-79.354390</td>\n    </tr>\n    <tr>\n      <th>83</th>\n      <td>OddSeoul</td>\n      <td>Korean Restaurant</td>\n      <td>43.646192</td>\n      <td>-79.419601</td>\n    </tr>\n    <tr>\n      <th>90</th>\n      <td>Isshin Ramen \u4e00\u5fc3</td>\n      <td>Ramen Restaurant</td>\n      <td>43.656517</td>\n      <td>-79.406945</td>\n    </tr>\n    <tr>\n      <th>98</th>\n      <td>Union Restaurant</td>\n      <td>French Restaurant</td>\n      <td>43.645860</td>\n      <td>-79.419532</td>\n    </tr>\n  </tbody>\n</table>\n</div>", 
                        "text/plain": "                              name                categories        lat  \\\n0                   Byblos Toronto  Mediterranean Restaurant  43.647615   \n1                              Pai           Thai Restaurant  43.647923   \n7                 Richmond Station       American Restaurant  43.651569   \n9                              Alo         French Restaurant  43.648574   \n18                           Canoe                Restaurant  43.647452   \n28  Seven Lives - Tacos y Mariscos        Mexican Restaurant  43.654418   \n38                          Patria        Spanish Restaurant  43.645384   \n39              Colette Grand Caf\u00e9                Restaurant  43.642844   \n41                 Wilbur Mexicana        Mexican Restaurant  43.644810   \n42                        Bar Buca        Italian Restaurant  43.643944   \n47                            TOCA        Italian Restaurant  43.645431   \n53                       Gusto 101        Italian Restaurant  43.644988   \n55                Le S\u00e9lect Bistro         French Restaurant  43.643699   \n57                            Rasa                Restaurant  43.662757   \n58          Kinka Izakaya Original       Japanese Restaurant  43.660596   \n60                       Bar Raval          Tapas Restaurant  43.655904   \n61           Rodney's Oyster House        Seafood Restaurant  43.644975   \n80               GEORGE Restaurant                Restaurant  43.653346   \n82                     Souk Tabule  Mediterranean Restaurant  43.653756   \n83                        OddSeoul         Korean Restaurant  43.646192   \n90                 Isshin Ramen \u4e00\u5fc3          Ramen Restaurant  43.656517   \n98                Union Restaurant         French Restaurant  43.645860   \n\n          lng  \n0  -79.388381  \n1  -79.388579  \n7  -79.379266  \n9  -79.396243  \n18 -79.381320  \n28 -79.400545  \n38 -79.396478  \n39 -79.400949  \n41 -79.398644  \n42 -79.399922  \n47 -79.387059  \n53 -79.400270  \n55 -79.396667  \n57 -79.403988  \n58 -79.378891  \n60 -79.410125  \n61 -79.396587  \n80 -79.374445  \n82 -79.354390  \n83 -79.419601  \n90 -79.406945  \n98 -79.419532  "
                    }, 
                    "output_type": "execute_result"
                }
            ], 
            "source": "nv = nearby_venues\nnv = nv[nv.categories.str.endswith('Restaurant')]\nnv"
        }, 
        {
            "source": "## Find most popular restaurant category", 
            "cell_type": "markdown", 
            "metadata": {}
        }, 
        {
            "execution_count": 175, 
            "cell_type": "code", 
            "metadata": {}, 
            "outputs": [
                {
                    "execution_count": 175, 
                    "metadata": {}, 
                    "data": {
                        "text/html": "<div>\n<style scoped>\n    .dataframe tbody tr th:only-of-type {\n        vertical-align: middle;\n    }\n\n    .dataframe tbody tr th {\n        vertical-align: top;\n    }\n\n    .dataframe thead th {\n        text-align: right;\n    }\n</style>\n<table border=\"1\" class=\"dataframe\">\n  <thead>\n    <tr style=\"text-align: right;\">\n      <th></th>\n      <th>categories</th>\n      <th>name</th>\n      <th>lat</th>\n      <th>lng</th>\n    </tr>\n  </thead>\n  <tbody>\n    <tr>\n      <th>0</th>\n      <td>Restaurant</td>\n      <td>4</td>\n      <td>4</td>\n      <td>4</td>\n    </tr>\n    <tr>\n      <th>1</th>\n      <td>French Restaurant</td>\n      <td>3</td>\n      <td>3</td>\n      <td>3</td>\n    </tr>\n    <tr>\n      <th>2</th>\n      <td>Italian Restaurant</td>\n      <td>3</td>\n      <td>3</td>\n      <td>3</td>\n    </tr>\n    <tr>\n      <th>3</th>\n      <td>Mediterranean Restaurant</td>\n      <td>2</td>\n      <td>2</td>\n      <td>2</td>\n    </tr>\n    <tr>\n      <th>4</th>\n      <td>Mexican Restaurant</td>\n      <td>2</td>\n      <td>2</td>\n      <td>2</td>\n    </tr>\n    <tr>\n      <th>5</th>\n      <td>American Restaurant</td>\n      <td>1</td>\n      <td>1</td>\n      <td>1</td>\n    </tr>\n    <tr>\n      <th>6</th>\n      <td>Japanese Restaurant</td>\n      <td>1</td>\n      <td>1</td>\n      <td>1</td>\n    </tr>\n    <tr>\n      <th>7</th>\n      <td>Korean Restaurant</td>\n      <td>1</td>\n      <td>1</td>\n      <td>1</td>\n    </tr>\n    <tr>\n      <th>8</th>\n      <td>Ramen Restaurant</td>\n      <td>1</td>\n      <td>1</td>\n      <td>1</td>\n    </tr>\n    <tr>\n      <th>9</th>\n      <td>Seafood Restaurant</td>\n      <td>1</td>\n      <td>1</td>\n      <td>1</td>\n    </tr>\n    <tr>\n      <th>10</th>\n      <td>Spanish Restaurant</td>\n      <td>1</td>\n      <td>1</td>\n      <td>1</td>\n    </tr>\n    <tr>\n      <th>11</th>\n      <td>Tapas Restaurant</td>\n      <td>1</td>\n      <td>1</td>\n      <td>1</td>\n    </tr>\n    <tr>\n      <th>12</th>\n      <td>Thai Restaurant</td>\n      <td>1</td>\n      <td>1</td>\n      <td>1</td>\n    </tr>\n  </tbody>\n</table>\n</div>", 
                        "text/plain": "                  categories  name  lat  lng\n0                 Restaurant     4    4    4\n1          French Restaurant     3    3    3\n2         Italian Restaurant     3    3    3\n3   Mediterranean Restaurant     2    2    2\n4         Mexican Restaurant     2    2    2\n5        American Restaurant     1    1    1\n6        Japanese Restaurant     1    1    1\n7          Korean Restaurant     1    1    1\n8           Ramen Restaurant     1    1    1\n9         Seafood Restaurant     1    1    1\n10        Spanish Restaurant     1    1    1\n11          Tapas Restaurant     1    1    1\n12           Thai Restaurant     1    1    1"
                    }, 
                    "output_type": "execute_result"
                }
            ], 
            "source": "g = nv.groupby('categories').count().sort_values('name', ascending=False).reset_index()\ng"
        }, 
        {
            "execution_count": 176, 
            "cell_type": "code", 
            "metadata": {}, 
            "outputs": [
                {
                    "execution_count": 176, 
                    "metadata": {}, 
                    "data": {
                        "text/plain": "0           French Restaurant\n1          Italian Restaurant\n2    Mediterranean Restaurant\n3          Mexican Restaurant\nName: categories, dtype: object"
                    }, 
                    "output_type": "execute_result"
                }
            ], 
            "source": "cat = g.iloc[1:5,].reset_index().categories\ncat"
        }, 
        {
            "execution_count": 177, 
            "cell_type": "code", 
            "metadata": {}, 
            "outputs": [
                {
                    "execution_count": 177, 
                    "metadata": {}, 
                    "data": {
                        "text/html": "<div>\n<style scoped>\n    .dataframe tbody tr th:only-of-type {\n        vertical-align: middle;\n    }\n\n    .dataframe tbody tr th {\n        vertical-align: top;\n    }\n\n    .dataframe thead th {\n        text-align: right;\n    }\n</style>\n<table border=\"1\" class=\"dataframe\">\n  <thead>\n    <tr style=\"text-align: right;\">\n      <th></th>\n      <th>name</th>\n      <th>categories</th>\n      <th>lat</th>\n      <th>lng</th>\n    </tr>\n  </thead>\n  <tbody>\n    <tr>\n      <th>0</th>\n      <td>Byblos Toronto</td>\n      <td>Mediterranean Restaurant</td>\n      <td>43.647615</td>\n      <td>-79.388381</td>\n    </tr>\n    <tr>\n      <th>9</th>\n      <td>Alo</td>\n      <td>French Restaurant</td>\n      <td>43.648574</td>\n      <td>-79.396243</td>\n    </tr>\n    <tr>\n      <th>28</th>\n      <td>Seven Lives - Tacos y Mariscos</td>\n      <td>Mexican Restaurant</td>\n      <td>43.654418</td>\n      <td>-79.400545</td>\n    </tr>\n    <tr>\n      <th>41</th>\n      <td>Wilbur Mexicana</td>\n      <td>Mexican Restaurant</td>\n      <td>43.644810</td>\n      <td>-79.398644</td>\n    </tr>\n    <tr>\n      <th>42</th>\n      <td>Bar Buca</td>\n      <td>Italian Restaurant</td>\n      <td>43.643944</td>\n      <td>-79.399922</td>\n    </tr>\n    <tr>\n      <th>47</th>\n      <td>TOCA</td>\n      <td>Italian Restaurant</td>\n      <td>43.645431</td>\n      <td>-79.387059</td>\n    </tr>\n    <tr>\n      <th>53</th>\n      <td>Gusto 101</td>\n      <td>Italian Restaurant</td>\n      <td>43.644988</td>\n      <td>-79.400270</td>\n    </tr>\n    <tr>\n      <th>55</th>\n      <td>Le S\u00e9lect Bistro</td>\n      <td>French Restaurant</td>\n      <td>43.643699</td>\n      <td>-79.396667</td>\n    </tr>\n    <tr>\n      <th>82</th>\n      <td>Souk Tabule</td>\n      <td>Mediterranean Restaurant</td>\n      <td>43.653756</td>\n      <td>-79.354390</td>\n    </tr>\n    <tr>\n      <th>98</th>\n      <td>Union Restaurant</td>\n      <td>French Restaurant</td>\n      <td>43.645860</td>\n      <td>-79.419532</td>\n    </tr>\n  </tbody>\n</table>\n</div>", 
                        "text/plain": "                              name                categories        lat  \\\n0                   Byblos Toronto  Mediterranean Restaurant  43.647615   \n9                              Alo         French Restaurant  43.648574   \n28  Seven Lives - Tacos y Mariscos        Mexican Restaurant  43.654418   \n41                 Wilbur Mexicana        Mexican Restaurant  43.644810   \n42                        Bar Buca        Italian Restaurant  43.643944   \n47                            TOCA        Italian Restaurant  43.645431   \n53                       Gusto 101        Italian Restaurant  43.644988   \n55                Le S\u00e9lect Bistro         French Restaurant  43.643699   \n82                     Souk Tabule  Mediterranean Restaurant  43.653756   \n98                Union Restaurant         French Restaurant  43.645860   \n\n          lng  \n0  -79.388381  \n9  -79.396243  \n28 -79.400545  \n41 -79.398644  \n42 -79.399922  \n47 -79.387059  \n53 -79.400270  \n55 -79.396667  \n82 -79.354390  \n98 -79.419532  "
                    }, 
                    "output_type": "execute_result"
                }
            ], 
            "source": "a = nv.categories == cat[0]\nb = nv.categories == cat[1]\nc = nv.categories == cat[2]\nd = nv.categories == cat[3]\nnv = nv[a | b | c | d]\nnv"
        }, 
        {
            "execution_count": 178, 
            "cell_type": "code", 
            "metadata": {}, 
            "outputs": [], 
            "source": "import matplotlib.cm as cm\nimport matplotlib.colors as colors\n\nmap_clusters = folium.Map(location=[lat, lng], zoom_start=13)\n\ncolors_array = cm.rainbow(np.linspace(0, 1, len(cat)))\ncdict = {cat[i]:colors.rgb2hex(colors_array[i]) for i in range(len(cat))}\n"
        }, 
        {
            "execution_count": 179, 
            "cell_type": "code", 
            "metadata": {}, 
            "outputs": [
                {
                    "execution_count": 179, 
                    "metadata": {}, 
                    "data": {
                        "text/html": "<div style=\"width:100%;\"><div style=\"position:relative;width:100%;height:0;padding-bottom:60%;\"><iframe src=\"data:text/html;charset=utf-8;base64,PCFET0NUWVBFIGh0bWw+CjxoZWFkPiAgICAKICAgIDxtZXRhIGh0dHAtZXF1aXY9ImNvbnRlbnQtdHlwZSIgY29udGVudD0idGV4dC9odG1sOyBjaGFyc2V0PVVURi04IiAvPgogICAgPHNjcmlwdD5MX1BSRUZFUl9DQU5WQVMgPSBmYWxzZTsgTF9OT19UT1VDSCA9IGZhbHNlOyBMX0RJU0FCTEVfM0QgPSBmYWxzZTs8L3NjcmlwdD4KICAgIDxzY3JpcHQgc3JjPSJodHRwczovL2Nkbi5qc2RlbGl2ci5uZXQvbnBtL2xlYWZsZXRAMS4yLjAvZGlzdC9sZWFmbGV0LmpzIj48L3NjcmlwdD4KICAgIDxzY3JpcHQgc3JjPSJodHRwczovL2FqYXguZ29vZ2xlYXBpcy5jb20vYWpheC9saWJzL2pxdWVyeS8xLjExLjEvanF1ZXJ5Lm1pbi5qcyI+PC9zY3JpcHQ+CiAgICA8c2NyaXB0IHNyYz0iaHR0cHM6Ly9tYXhjZG4uYm9vdHN0cmFwY2RuLmNvbS9ib290c3RyYXAvMy4yLjAvanMvYm9vdHN0cmFwLm1pbi5qcyI+PC9zY3JpcHQ+CiAgICA8c2NyaXB0IHNyYz0iaHR0cHM6Ly9jZG5qcy5jbG91ZGZsYXJlLmNvbS9hamF4L2xpYnMvTGVhZmxldC5hd2Vzb21lLW1hcmtlcnMvMi4wLjIvbGVhZmxldC5hd2Vzb21lLW1hcmtlcnMuanMiPjwvc2NyaXB0PgogICAgPGxpbmsgcmVsPSJzdHlsZXNoZWV0IiBocmVmPSJodHRwczovL2Nkbi5qc2RlbGl2ci5uZXQvbnBtL2xlYWZsZXRAMS4yLjAvZGlzdC9sZWFmbGV0LmNzcyIvPgogICAgPGxpbmsgcmVsPSJzdHlsZXNoZWV0IiBocmVmPSJodHRwczovL21heGNkbi5ib290c3RyYXBjZG4uY29tL2Jvb3RzdHJhcC8zLjIuMC9jc3MvYm9vdHN0cmFwLm1pbi5jc3MiLz4KICAgIDxsaW5rIHJlbD0ic3R5bGVzaGVldCIgaHJlZj0iaHR0cHM6Ly9tYXhjZG4uYm9vdHN0cmFwY2RuLmNvbS9ib290c3RyYXAvMy4yLjAvY3NzL2Jvb3RzdHJhcC10aGVtZS5taW4uY3NzIi8+CiAgICA8bGluayByZWw9InN0eWxlc2hlZXQiIGhyZWY9Imh0dHBzOi8vbWF4Y2RuLmJvb3RzdHJhcGNkbi5jb20vZm9udC1hd2Vzb21lLzQuNi4zL2Nzcy9mb250LWF3ZXNvbWUubWluLmNzcyIvPgogICAgPGxpbmsgcmVsPSJzdHlsZXNoZWV0IiBocmVmPSJodHRwczovL2NkbmpzLmNsb3VkZmxhcmUuY29tL2FqYXgvbGlicy9MZWFmbGV0LmF3ZXNvbWUtbWFya2Vycy8yLjAuMi9sZWFmbGV0LmF3ZXNvbWUtbWFya2Vycy5jc3MiLz4KICAgIDxsaW5rIHJlbD0ic3R5bGVzaGVldCIgaHJlZj0iaHR0cHM6Ly9yYXdnaXQuY29tL3B5dGhvbi12aXN1YWxpemF0aW9uL2ZvbGl1bS9tYXN0ZXIvZm9saXVtL3RlbXBsYXRlcy9sZWFmbGV0LmF3ZXNvbWUucm90YXRlLmNzcyIvPgogICAgPHN0eWxlPmh0bWwsIGJvZHkge3dpZHRoOiAxMDAlO2hlaWdodDogMTAwJTttYXJnaW46IDA7cGFkZGluZzogMDt9PC9zdHlsZT4KICAgIDxzdHlsZT4jbWFwIHtwb3NpdGlvbjphYnNvbHV0ZTt0b3A6MDtib3R0b206MDtyaWdodDowO2xlZnQ6MDt9PC9zdHlsZT4KICAgIAogICAgICAgICAgICA8c3R5bGU+ICNtYXBfNTExNjgzNmI5ZjNmNDdlM2JkNjQ1Yjk0Y2FkZjQ0MDIgewogICAgICAgICAgICAgICAgcG9zaXRpb24gOiByZWxhdGl2ZTsKICAgICAgICAgICAgICAgIHdpZHRoIDogMTAwLjAlOwogICAgICAgICAgICAgICAgaGVpZ2h0OiAxMDAuMCU7CiAgICAgICAgICAgICAgICBsZWZ0OiAwLjAlOwogICAgICAgICAgICAgICAgdG9wOiAwLjAlOwogICAgICAgICAgICAgICAgfQogICAgICAgICAgICA8L3N0eWxlPgogICAgICAgIAo8L2hlYWQ+Cjxib2R5PiAgICAKICAgIAogICAgICAgICAgICA8ZGl2IGNsYXNzPSJmb2xpdW0tbWFwIiBpZD0ibWFwXzUxMTY4MzZiOWYzZjQ3ZTNiZDY0NWI5NGNhZGY0NDAyIiA+PC9kaXY+CiAgICAgICAgCjwvYm9keT4KPHNjcmlwdD4gICAgCiAgICAKCiAgICAgICAgICAgIAogICAgICAgICAgICAgICAgdmFyIGJvdW5kcyA9IG51bGw7CiAgICAgICAgICAgIAoKICAgICAgICAgICAgdmFyIG1hcF81MTE2ODM2YjlmM2Y0N2UzYmQ2NDViOTRjYWRmNDQwMiA9IEwubWFwKAogICAgICAgICAgICAgICAgICAgICAgICAgICAgICAgICAgJ21hcF81MTE2ODM2YjlmM2Y0N2UzYmQ2NDViOTRjYWRmNDQwMicsCiAgICAgICAgICAgICAgICAgICAgICAgICAgICAgICAgICB7Y2VudGVyOiBbNDMuNjQ5MjkxODY3NTY3NTU1LC03OS4zODUzMDI1NTk0NTk0Nl0sCiAgICAgICAgICAgICAgICAgICAgICAgICAgICAgICAgICB6b29tOiAxMywKICAgICAgICAgICAgICAgICAgICAgICAgICAgICAgICAgIG1heEJvdW5kczogYm91bmRzLAogICAgICAgICAgICAgICAgICAgICAgICAgICAgICAgICAgbGF5ZXJzOiBbXSwKICAgICAgICAgICAgICAgICAgICAgICAgICAgICAgICAgIHdvcmxkQ29weUp1bXA6IGZhbHNlLAogICAgICAgICAgICAgICAgICAgICAgICAgICAgICAgICAgY3JzOiBMLkNSUy5FUFNHMzg1NwogICAgICAgICAgICAgICAgICAgICAgICAgICAgICAgICB9KTsKICAgICAgICAgICAgCiAgICAgICAgCiAgICAKICAgICAgICAgICAgdmFyIHRpbGVfbGF5ZXJfYmE5NjA5MGQ1Nzk2NDU2OWI4MzBmMjcxYWEwMjViYmUgPSBMLnRpbGVMYXllcigKICAgICAgICAgICAgICAgICdodHRwczovL3tzfS50aWxlLm9wZW5zdHJlZXRtYXAub3JnL3t6fS97eH0ve3l9LnBuZycsCiAgICAgICAgICAgICAgICB7CiAgImF0dHJpYnV0aW9uIjogbnVsbCwKICAiZGV0ZWN0UmV0aW5hIjogZmFsc2UsCiAgIm1heFpvb20iOiAxOCwKICAibWluWm9vbSI6IDEsCiAgIm5vV3JhcCI6IGZhbHNlLAogICJzdWJkb21haW5zIjogImFiYyIKfQogICAgICAgICAgICAgICAgKS5hZGRUbyhtYXBfNTExNjgzNmI5ZjNmNDdlM2JkNjQ1Yjk0Y2FkZjQ0MDIpOwogICAgICAgIAogICAgCiAgICAgICAgICAgIHZhciBjaXJjbGVfbWFya2VyX2E2NjdkMDg0ZWYzNzQ4ZGRiMDMwMjIzY2FlMDg4NmQ3ID0gTC5jaXJjbGVNYXJrZXIoCiAgICAgICAgICAgICAgICBbNDMuNjQ3NjE1MDU0MTcxNzY2LC03OS4zODgzODEwMzE3MTM4XSwKICAgICAgICAgICAgICAgIHsKICAiYnViYmxpbmdNb3VzZUV2ZW50cyI6IHRydWUsCiAgImNvbG9yIjogIiNkNGRkODAiLAogICJkYXNoQXJyYXkiOiBudWxsLAogICJkYXNoT2Zmc2V0IjogbnVsbCwKICAiZmlsbCI6IHRydWUsCiAgImZpbGxDb2xvciI6ICIjZDRkZDgwIiwKICAiZmlsbE9wYWNpdHkiOiAwLjcsCiAgImZpbGxSdWxlIjogImV2ZW5vZGQiLAogICJsaW5lQ2FwIjogInJvdW5kIiwKICAibGluZUpvaW4iOiAicm91bmQiLAogICJvcGFjaXR5IjogMS4wLAogICJyYWRpdXMiOiA1LAogICJzdHJva2UiOiB0cnVlLAogICJ3ZWlnaHQiOiAzCn0KICAgICAgICAgICAgICAgICkuYWRkVG8obWFwXzUxMTY4MzZiOWYzZjQ3ZTNiZDY0NWI5NGNhZGY0NDAyKTsKICAgICAgICAgICAgCiAgICAKICAgICAgICAgICAgdmFyIHBvcHVwXzdkNmJhNzA1OWM0NjQ2ZTI5Njc4YzdkNDEwNTQ3ZWVjID0gTC5wb3B1cCh7bWF4V2lkdGg6ICczMDAnfSk7CgogICAgICAgICAgICAKICAgICAgICAgICAgICAgIHZhciBodG1sXzdmZDhkNTE1ZDQ4ZTQ1N2ZhY2IxMmE0ZGY5NDRhMmQ4ID0gJCgnPGRpdiBpZD0iaHRtbF83ZmQ4ZDUxNWQ0OGU0NTdmYWNiMTJhNGRmOTQ0YTJkOCIgc3R5bGU9IndpZHRoOiAxMDAuMCU7IGhlaWdodDogMTAwLjAlOyI+TWVkaXRlcnJhbmVhbiBSZXN0YXVyYW50PC9kaXY+JylbMF07CiAgICAgICAgICAgICAgICBwb3B1cF83ZDZiYTcwNTljNDY0NmUyOTY3OGM3ZDQxMDU0N2VlYy5zZXRDb250ZW50KGh0bWxfN2ZkOGQ1MTVkNDhlNDU3ZmFjYjEyYTRkZjk0NGEyZDgpOwogICAgICAgICAgICAKCiAgICAgICAgICAgIGNpcmNsZV9tYXJrZXJfYTY2N2QwODRlZjM3NDhkZGIwMzAyMjNjYWUwODg2ZDcuYmluZFBvcHVwKHBvcHVwXzdkNmJhNzA1OWM0NjQ2ZTI5Njc4YzdkNDEwNTQ3ZWVjKTsKCiAgICAgICAgICAgIAogICAgICAgIAogICAgCiAgICAgICAgICAgIHZhciBjaXJjbGVfbWFya2VyX2Q5NjBkOGVhYWFkYTQ3NDU4MjFlYTRhZDM5MTdkYWNmID0gTC5jaXJjbGVNYXJrZXIoCiAgICAgICAgICAgICAgICBbNDMuNjQ4NTczNTc5NDYwNTksLTc5LjM5NjI0MzI1OTk5NjM4XSwKICAgICAgICAgICAgICAgIHsKICAiYnViYmxpbmdNb3VzZUV2ZW50cyI6IHRydWUsCiAgImNvbG9yIjogIiM4MDAwZmYiLAogICJkYXNoQXJyYXkiOiBudWxsLAogICJkYXNoT2Zmc2V0IjogbnVsbCwKICAiZmlsbCI6IHRydWUsCiAgImZpbGxDb2xvciI6ICIjODAwMGZmIiwKICAiZmlsbE9wYWNpdHkiOiAwLjcsCiAgImZpbGxSdWxlIjogImV2ZW5vZGQiLAogICJsaW5lQ2FwIjogInJvdW5kIiwKICAibGluZUpvaW4iOiAicm91bmQiLAogICJvcGFjaXR5IjogMS4wLAogICJyYWRpdXMiOiA1LAogICJzdHJva2UiOiB0cnVlLAogICJ3ZWlnaHQiOiAzCn0KICAgICAgICAgICAgICAgICkuYWRkVG8obWFwXzUxMTY4MzZiOWYzZjQ3ZTNiZDY0NWI5NGNhZGY0NDAyKTsKICAgICAgICAgICAgCiAgICAKICAgICAgICAgICAgdmFyIHBvcHVwX2EyMTRkOGNmNTQ4MjQwZTQ5MjE2ZjJkMjUyYzA1NTFhID0gTC5wb3B1cCh7bWF4V2lkdGg6ICczMDAnfSk7CgogICAgICAgICAgICAKICAgICAgICAgICAgICAgIHZhciBodG1sX2Y1YmFhZGZkODU3YjQyNGY4ZGQ3ZWI2NGRkOWQ4OWY4ID0gJCgnPGRpdiBpZD0iaHRtbF9mNWJhYWRmZDg1N2I0MjRmOGRkN2ViNjRkZDlkODlmOCIgc3R5bGU9IndpZHRoOiAxMDAuMCU7IGhlaWdodDogMTAwLjAlOyI+RnJlbmNoIFJlc3RhdXJhbnQ8L2Rpdj4nKVswXTsKICAgICAgICAgICAgICAgIHBvcHVwX2EyMTRkOGNmNTQ4MjQwZTQ5MjE2ZjJkMjUyYzA1NTFhLnNldENvbnRlbnQoaHRtbF9mNWJhYWRmZDg1N2I0MjRmOGRkN2ViNjRkZDlkODlmOCk7CiAgICAgICAgICAgIAoKICAgICAgICAgICAgY2lyY2xlX21hcmtlcl9kOTYwZDhlYWFhZGE0NzQ1ODIxZWE0YWQzOTE3ZGFjZi5iaW5kUG9wdXAocG9wdXBfYTIxNGQ4Y2Y1NDgyNDBlNDkyMTZmMmQyNTJjMDU1MWEpOwoKICAgICAgICAgICAgCiAgICAgICAgCiAgICAKICAgICAgICAgICAgdmFyIGNpcmNsZV9tYXJrZXJfYWZkMDY3M2YyNmFlNDg4YjhiMWExODJkOWU3NjliNTMgPSBMLmNpcmNsZU1hcmtlcigKICAgICAgICAgICAgICAgIFs0My42NTQ0MTgxNzE2MDkyNSwtNzkuNDAwNTQ0Njc4NDYyNjFdLAogICAgICAgICAgICAgICAgewogICJidWJibGluZ01vdXNlRXZlbnRzIjogdHJ1ZSwKICAiY29sb3IiOiAiI2ZmMDAwMCIsCiAgImRhc2hBcnJheSI6IG51bGwsCiAgImRhc2hPZmZzZXQiOiBudWxsLAogICJmaWxsIjogdHJ1ZSwKICAiZmlsbENvbG9yIjogIiNmZjAwMDAiLAogICJmaWxsT3BhY2l0eSI6IDAuNywKICAiZmlsbFJ1bGUiOiAiZXZlbm9kZCIsCiAgImxpbmVDYXAiOiAicm91bmQiLAogICJsaW5lSm9pbiI6ICJyb3VuZCIsCiAgIm9wYWNpdHkiOiAxLjAsCiAgInJhZGl1cyI6IDUsCiAgInN0cm9rZSI6IHRydWUsCiAgIndlaWdodCI6IDMKfQogICAgICAgICAgICAgICAgKS5hZGRUbyhtYXBfNTExNjgzNmI5ZjNmNDdlM2JkNjQ1Yjk0Y2FkZjQ0MDIpOwogICAgICAgICAgICAKICAgIAogICAgICAgICAgICB2YXIgcG9wdXBfNmM4YmM1NjczZTU3NDkyNjg3ZTY5MTdjMmE1NGQ5NDcgPSBMLnBvcHVwKHttYXhXaWR0aDogJzMwMCd9KTsKCiAgICAgICAgICAgIAogICAgICAgICAgICAgICAgdmFyIGh0bWxfZjJiODY5MDExNTkwNGFmZWFjYzRkOTU1Nzc4MDA4NzEgPSAkKCc8ZGl2IGlkPSJodG1sX2YyYjg2OTAxMTU5MDRhZmVhY2M0ZDk1NTc3ODAwODcxIiBzdHlsZT0id2lkdGg6IDEwMC4wJTsgaGVpZ2h0OiAxMDAuMCU7Ij5NZXhpY2FuIFJlc3RhdXJhbnQ8L2Rpdj4nKVswXTsKICAgICAgICAgICAgICAgIHBvcHVwXzZjOGJjNTY3M2U1NzQ5MjY4N2U2OTE3YzJhNTRkOTQ3LnNldENvbnRlbnQoaHRtbF9mMmI4NjkwMTE1OTA0YWZlYWNjNGQ5NTU3NzgwMDg3MSk7CiAgICAgICAgICAgIAoKICAgICAgICAgICAgY2lyY2xlX21hcmtlcl9hZmQwNjczZjI2YWU0ODhiOGIxYTE4MmQ5ZTc2OWI1My5iaW5kUG9wdXAocG9wdXBfNmM4YmM1NjczZTU3NDkyNjg3ZTY5MTdjMmE1NGQ5NDcpOwoKICAgICAgICAgICAgCiAgICAgICAgCiAgICAKICAgICAgICAgICAgdmFyIGNpcmNsZV9tYXJrZXJfYzM3YTQyMjlkODc5NDg4NzliM2JkNjFiNTFmYWFlNjQgPSBMLmNpcmNsZU1hcmtlcigKICAgICAgICAgICAgICAgIFs0My42NDQ4MTAxNDk2NDczMzQsLTc5LjM5ODY0NDE5NDI3MTZdLAogICAgICAgICAgICAgICAgewogICJidWJibGluZ01vdXNlRXZlbnRzIjogdHJ1ZSwKICAiY29sb3IiOiAiI2ZmMDAwMCIsCiAgImRhc2hBcnJheSI6IG51bGwsCiAgImRhc2hPZmZzZXQiOiBudWxsLAogICJmaWxsIjogdHJ1ZSwKICAiZmlsbENvbG9yIjogIiNmZjAwMDAiLAogICJmaWxsT3BhY2l0eSI6IDAuNywKICAiZmlsbFJ1bGUiOiAiZXZlbm9kZCIsCiAgImxpbmVDYXAiOiAicm91bmQiLAogICJsaW5lSm9pbiI6ICJyb3VuZCIsCiAgIm9wYWNpdHkiOiAxLjAsCiAgInJhZGl1cyI6IDUsCiAgInN0cm9rZSI6IHRydWUsCiAgIndlaWdodCI6IDMKfQogICAgICAgICAgICAgICAgKS5hZGRUbyhtYXBfNTExNjgzNmI5ZjNmNDdlM2JkNjQ1Yjk0Y2FkZjQ0MDIpOwogICAgICAgICAgICAKICAgIAogICAgICAgICAgICB2YXIgcG9wdXBfMTFhN2E1Y2ViYzA0NDc3NjlkYzZmMTFmOTdlMWZmNTUgPSBMLnBvcHVwKHttYXhXaWR0aDogJzMwMCd9KTsKCiAgICAgICAgICAgIAogICAgICAgICAgICAgICAgdmFyIGh0bWxfMmIzMzFjZjE1NDMyNGM4Yjk1N2YxOTNkMWUwY2VjN2QgPSAkKCc8ZGl2IGlkPSJodG1sXzJiMzMxY2YxNTQzMjRjOGI5NTdmMTkzZDFlMGNlYzdkIiBzdHlsZT0id2lkdGg6IDEwMC4wJTsgaGVpZ2h0OiAxMDAuMCU7Ij5NZXhpY2FuIFJlc3RhdXJhbnQ8L2Rpdj4nKVswXTsKICAgICAgICAgICAgICAgIHBvcHVwXzExYTdhNWNlYmMwNDQ3NzY5ZGM2ZjExZjk3ZTFmZjU1LnNldENvbnRlbnQoaHRtbF8yYjMzMWNmMTU0MzI0YzhiOTU3ZjE5M2QxZTBjZWM3ZCk7CiAgICAgICAgICAgIAoKICAgICAgICAgICAgY2lyY2xlX21hcmtlcl9jMzdhNDIyOWQ4Nzk0ODg3OWIzYmQ2MWI1MWZhYWU2NC5iaW5kUG9wdXAocG9wdXBfMTFhN2E1Y2ViYzA0NDc3NjlkYzZmMTFmOTdlMWZmNTUpOwoKICAgICAgICAgICAgCiAgICAgICAgCiAgICAKICAgICAgICAgICAgdmFyIGNpcmNsZV9tYXJrZXJfYTA0ODIwYTZmYTM3NDc3OTgzYTg1NDlhN2NmMGUwZWIgPSBMLmNpcmNsZU1hcmtlcigKICAgICAgICAgICAgICAgIFs0My42NDM5NDQwNjYwMjc0OCwtNzkuMzk5OTIyNDE5NTQ5NzhdLAogICAgICAgICAgICAgICAgewogICJidWJibGluZ01vdXNlRXZlbnRzIjogdHJ1ZSwKICAiY29sb3IiOiAiIzJhZGRkZCIsCiAgImRhc2hBcnJheSI6IG51bGwsCiAgImRhc2hPZmZzZXQiOiBudWxsLAogICJmaWxsIjogdHJ1ZSwKICAiZmlsbENvbG9yIjogIiMyYWRkZGQiLAogICJmaWxsT3BhY2l0eSI6IDAuNywKICAiZmlsbFJ1bGUiOiAiZXZlbm9kZCIsCiAgImxpbmVDYXAiOiAicm91bmQiLAogICJsaW5lSm9pbiI6ICJyb3VuZCIsCiAgIm9wYWNpdHkiOiAxLjAsCiAgInJhZGl1cyI6IDUsCiAgInN0cm9rZSI6IHRydWUsCiAgIndlaWdodCI6IDMKfQogICAgICAgICAgICAgICAgKS5hZGRUbyhtYXBfNTExNjgzNmI5ZjNmNDdlM2JkNjQ1Yjk0Y2FkZjQ0MDIpOwogICAgICAgICAgICAKICAgIAogICAgICAgICAgICB2YXIgcG9wdXBfNjNmZTZlY2U2MTRlNDdhZjkyOWYxZDJlMzk0NjJhZmQgPSBMLnBvcHVwKHttYXhXaWR0aDogJzMwMCd9KTsKCiAgICAgICAgICAgIAogICAgICAgICAgICAgICAgdmFyIGh0bWxfMzQ3MjZhYzM4NzJjNDVjYmE5YmYyZjk4MDExZThmM2IgPSAkKCc8ZGl2IGlkPSJodG1sXzM0NzI2YWMzODcyYzQ1Y2JhOWJmMmY5ODAxMWU4ZjNiIiBzdHlsZT0id2lkdGg6IDEwMC4wJTsgaGVpZ2h0OiAxMDAuMCU7Ij5JdGFsaWFuIFJlc3RhdXJhbnQ8L2Rpdj4nKVswXTsKICAgICAgICAgICAgICAgIHBvcHVwXzYzZmU2ZWNlNjE0ZTQ3YWY5MjlmMWQyZTM5NDYyYWZkLnNldENvbnRlbnQoaHRtbF8zNDcyNmFjMzg3MmM0NWNiYTliZjJmOTgwMTFlOGYzYik7CiAgICAgICAgICAgIAoKICAgICAgICAgICAgY2lyY2xlX21hcmtlcl9hMDQ4MjBhNmZhMzc0Nzc5ODNhODU0OWE3Y2YwZTBlYi5iaW5kUG9wdXAocG9wdXBfNjNmZTZlY2U2MTRlNDdhZjkyOWYxZDJlMzk0NjJhZmQpOwoKICAgICAgICAgICAgCiAgICAgICAgCiAgICAKICAgICAgICAgICAgdmFyIGNpcmNsZV9tYXJrZXJfOWRjZDNjYWJlOTBlNDM2Y2JjMzk5NjYyOWJmOTNlZmUgPSBMLmNpcmNsZU1hcmtlcigKICAgICAgICAgICAgICAgIFs0My42NDU0MzExNzcyNjEyNSwtNzkuMzg3MDU4NTg4OTU0OTFdLAogICAgICAgICAgICAgICAgewogICJidWJibGluZ01vdXNlRXZlbnRzIjogdHJ1ZSwKICAiY29sb3IiOiAiIzJhZGRkZCIsCiAgImRhc2hBcnJheSI6IG51bGwsCiAgImRhc2hPZmZzZXQiOiBudWxsLAogICJmaWxsIjogdHJ1ZSwKICAiZmlsbENvbG9yIjogIiMyYWRkZGQiLAogICJmaWxsT3BhY2l0eSI6IDAuNywKICAiZmlsbFJ1bGUiOiAiZXZlbm9kZCIsCiAgImxpbmVDYXAiOiAicm91bmQiLAogICJsaW5lSm9pbiI6ICJyb3VuZCIsCiAgIm9wYWNpdHkiOiAxLjAsCiAgInJhZGl1cyI6IDUsCiAgInN0cm9rZSI6IHRydWUsCiAgIndlaWdodCI6IDMKfQogICAgICAgICAgICAgICAgKS5hZGRUbyhtYXBfNTExNjgzNmI5ZjNmNDdlM2JkNjQ1Yjk0Y2FkZjQ0MDIpOwogICAgICAgICAgICAKICAgIAogICAgICAgICAgICB2YXIgcG9wdXBfMDRmNWQwNWUwMTBiNDE1MmExNjQ0MTdhMDk0MDQyNDYgPSBMLnBvcHVwKHttYXhXaWR0aDogJzMwMCd9KTsKCiAgICAgICAgICAgIAogICAgICAgICAgICAgICAgdmFyIGh0bWxfMDM0YmI1NDI2N2I0NDk4Yjg5YzA5NzA4MTNlMWYxZDYgPSAkKCc8ZGl2IGlkPSJodG1sXzAzNGJiNTQyNjdiNDQ5OGI4OWMwOTcwODEzZTFmMWQ2IiBzdHlsZT0id2lkdGg6IDEwMC4wJTsgaGVpZ2h0OiAxMDAuMCU7Ij5JdGFsaWFuIFJlc3RhdXJhbnQ8L2Rpdj4nKVswXTsKICAgICAgICAgICAgICAgIHBvcHVwXzA0ZjVkMDVlMDEwYjQxNTJhMTY0NDE3YTA5NDA0MjQ2LnNldENvbnRlbnQoaHRtbF8wMzRiYjU0MjY3YjQ0OThiODljMDk3MDgxM2UxZjFkNik7CiAgICAgICAgICAgIAoKICAgICAgICAgICAgY2lyY2xlX21hcmtlcl85ZGNkM2NhYmU5MGU0MzZjYmMzOTk2NjI5YmY5M2VmZS5iaW5kUG9wdXAocG9wdXBfMDRmNWQwNWUwMTBiNDE1MmExNjQ0MTdhMDk0MDQyNDYpOwoKICAgICAgICAgICAgCiAgICAgICAgCiAgICAKICAgICAgICAgICAgdmFyIGNpcmNsZV9tYXJrZXJfNjU4OTI5M2M0M2VmNDE3Y2JkYWJiMmQ1N2I1OGIxMTIgPSBMLmNpcmNsZU1hcmtlcigKICAgICAgICAgICAgICAgIFs0My42NDQ5ODgyMjM0MDIyMTYsLTc5LjQwMDI2OTc5MjQ2ODldLAogICAgICAgICAgICAgICAgewogICJidWJibGluZ01vdXNlRXZlbnRzIjogdHJ1ZSwKICAiY29sb3IiOiAiIzJhZGRkZCIsCiAgImRhc2hBcnJheSI6IG51bGwsCiAgImRhc2hPZmZzZXQiOiBudWxsLAogICJmaWxsIjogdHJ1ZSwKICAiZmlsbENvbG9yIjogIiMyYWRkZGQiLAogICJmaWxsT3BhY2l0eSI6IDAuNywKICAiZmlsbFJ1bGUiOiAiZXZlbm9kZCIsCiAgImxpbmVDYXAiOiAicm91bmQiLAogICJsaW5lSm9pbiI6ICJyb3VuZCIsCiAgIm9wYWNpdHkiOiAxLjAsCiAgInJhZGl1cyI6IDUsCiAgInN0cm9rZSI6IHRydWUsCiAgIndlaWdodCI6IDMKfQogICAgICAgICAgICAgICAgKS5hZGRUbyhtYXBfNTExNjgzNmI5ZjNmNDdlM2JkNjQ1Yjk0Y2FkZjQ0MDIpOwogICAgICAgICAgICAKICAgIAogICAgICAgICAgICB2YXIgcG9wdXBfZTk5YTQ1MGVkM2FkNDEzMmJkZjY3NjBiNzE3ZTVhNWMgPSBMLnBvcHVwKHttYXhXaWR0aDogJzMwMCd9KTsKCiAgICAgICAgICAgIAogICAgICAgICAgICAgICAgdmFyIGh0bWxfMGM5MDE3NDVkNTllNDI1Zjg0ODMyMTEyMGIwMTlkMmYgPSAkKCc8ZGl2IGlkPSJodG1sXzBjOTAxNzQ1ZDU5ZTQyNWY4NDgzMjExMjBiMDE5ZDJmIiBzdHlsZT0id2lkdGg6IDEwMC4wJTsgaGVpZ2h0OiAxMDAuMCU7Ij5JdGFsaWFuIFJlc3RhdXJhbnQ8L2Rpdj4nKVswXTsKICAgICAgICAgICAgICAgIHBvcHVwX2U5OWE0NTBlZDNhZDQxMzJiZGY2NzYwYjcxN2U1YTVjLnNldENvbnRlbnQoaHRtbF8wYzkwMTc0NWQ1OWU0MjVmODQ4MzIxMTIwYjAxOWQyZik7CiAgICAgICAgICAgIAoKICAgICAgICAgICAgY2lyY2xlX21hcmtlcl82NTg5MjkzYzQzZWY0MTdjYmRhYmIyZDU3YjU4YjExMi5iaW5kUG9wdXAocG9wdXBfZTk5YTQ1MGVkM2FkNDEzMmJkZjY3NjBiNzE3ZTVhNWMpOwoKICAgICAgICAgICAgCiAgICAgICAgCiAgICAKICAgICAgICAgICAgdmFyIGNpcmNsZV9tYXJrZXJfMmZhYjc2NDQ3NTUwNDBjMWEyZGI1YzE4NWQ2YmFhM2MgPSBMLmNpcmNsZU1hcmtlcigKICAgICAgICAgICAgICAgIFs0My42NDM2OTg5MzY2MjM1MiwtNzkuMzk2NjY2NjgxMTczODhdLAogICAgICAgICAgICAgICAgewogICJidWJibGluZ01vdXNlRXZlbnRzIjogdHJ1ZSwKICAiY29sb3IiOiAiIzgwMDBmZiIsCiAgImRhc2hBcnJheSI6IG51bGwsCiAgImRhc2hPZmZzZXQiOiBudWxsLAogICJmaWxsIjogdHJ1ZSwKICAiZmlsbENvbG9yIjogIiM4MDAwZmYiLAogICJmaWxsT3BhY2l0eSI6IDAuNywKICAiZmlsbFJ1bGUiOiAiZXZlbm9kZCIsCiAgImxpbmVDYXAiOiAicm91bmQiLAogICJsaW5lSm9pbiI6ICJyb3VuZCIsCiAgIm9wYWNpdHkiOiAxLjAsCiAgInJhZGl1cyI6IDUsCiAgInN0cm9rZSI6IHRydWUsCiAgIndlaWdodCI6IDMKfQogICAgICAgICAgICAgICAgKS5hZGRUbyhtYXBfNTExNjgzNmI5ZjNmNDdlM2JkNjQ1Yjk0Y2FkZjQ0MDIpOwogICAgICAgICAgICAKICAgIAogICAgICAgICAgICB2YXIgcG9wdXBfMTE2ZjQwZDM5Y2YzNGExMmI5MTk0MWQ0YzczNjFlMjIgPSBMLnBvcHVwKHttYXhXaWR0aDogJzMwMCd9KTsKCiAgICAgICAgICAgIAogICAgICAgICAgICAgICAgdmFyIGh0bWxfZGM0NmJiZWEwYmUxNDc0OTgxZDQwZDViMDUwNWVhNjIgPSAkKCc8ZGl2IGlkPSJodG1sX2RjNDZiYmVhMGJlMTQ3NDk4MWQ0MGQ1YjA1MDVlYTYyIiBzdHlsZT0id2lkdGg6IDEwMC4wJTsgaGVpZ2h0OiAxMDAuMCU7Ij5GcmVuY2ggUmVzdGF1cmFudDwvZGl2PicpWzBdOwogICAgICAgICAgICAgICAgcG9wdXBfMTE2ZjQwZDM5Y2YzNGExMmI5MTk0MWQ0YzczNjFlMjIuc2V0Q29udGVudChodG1sX2RjNDZiYmVhMGJlMTQ3NDk4MWQ0MGQ1YjA1MDVlYTYyKTsKICAgICAgICAgICAgCgogICAgICAgICAgICBjaXJjbGVfbWFya2VyXzJmYWI3NjQ0NzU1MDQwYzFhMmRiNWMxODVkNmJhYTNjLmJpbmRQb3B1cChwb3B1cF8xMTZmNDBkMzljZjM0YTEyYjkxOTQxZDRjNzM2MWUyMik7CgogICAgICAgICAgICAKICAgICAgICAKICAgIAogICAgICAgICAgICB2YXIgY2lyY2xlX21hcmtlcl82ZmY0OTc0Mzk4NTE0MjYxYWY3OTg3OTQwY2NhNmM5YSA9IEwuY2lyY2xlTWFya2VyKAogICAgICAgICAgICAgICAgWzQzLjY1Mzc1NTU2ODgwNzQzLC03OS4zNTQzOTAwNjA5NjE2OF0sCiAgICAgICAgICAgICAgICB7CiAgImJ1YmJsaW5nTW91c2VFdmVudHMiOiB0cnVlLAogICJjb2xvciI6ICIjZDRkZDgwIiwKICAiZGFzaEFycmF5IjogbnVsbCwKICAiZGFzaE9mZnNldCI6IG51bGwsCiAgImZpbGwiOiB0cnVlLAogICJmaWxsQ29sb3IiOiAiI2Q0ZGQ4MCIsCiAgImZpbGxPcGFjaXR5IjogMC43LAogICJmaWxsUnVsZSI6ICJldmVub2RkIiwKICAibGluZUNhcCI6ICJyb3VuZCIsCiAgImxpbmVKb2luIjogInJvdW5kIiwKICAib3BhY2l0eSI6IDEuMCwKICAicmFkaXVzIjogNSwKICAic3Ryb2tlIjogdHJ1ZSwKICAid2VpZ2h0IjogMwp9CiAgICAgICAgICAgICAgICApLmFkZFRvKG1hcF81MTE2ODM2YjlmM2Y0N2UzYmQ2NDViOTRjYWRmNDQwMik7CiAgICAgICAgICAgIAogICAgCiAgICAgICAgICAgIHZhciBwb3B1cF9lYzNmMDIzMTJiM2U0NTE2YjA3ZTZiM2EyNjc1NDdiZSA9IEwucG9wdXAoe21heFdpZHRoOiAnMzAwJ30pOwoKICAgICAgICAgICAgCiAgICAgICAgICAgICAgICB2YXIgaHRtbF8xNGRlMTNkZWY5ZGM0NDIzYThmZmFlMDY1MTU5YjYyMCA9ICQoJzxkaXYgaWQ9Imh0bWxfMTRkZTEzZGVmOWRjNDQyM2E4ZmZhZTA2NTE1OWI2MjAiIHN0eWxlPSJ3aWR0aDogMTAwLjAlOyBoZWlnaHQ6IDEwMC4wJTsiPk1lZGl0ZXJyYW5lYW4gUmVzdGF1cmFudDwvZGl2PicpWzBdOwogICAgICAgICAgICAgICAgcG9wdXBfZWMzZjAyMzEyYjNlNDUxNmIwN2U2YjNhMjY3NTQ3YmUuc2V0Q29udGVudChodG1sXzE0ZGUxM2RlZjlkYzQ0MjNhOGZmYWUwNjUxNTliNjIwKTsKICAgICAgICAgICAgCgogICAgICAgICAgICBjaXJjbGVfbWFya2VyXzZmZjQ5NzQzOTg1MTQyNjFhZjc5ODc5NDBjY2E2YzlhLmJpbmRQb3B1cChwb3B1cF9lYzNmMDIzMTJiM2U0NTE2YjA3ZTZiM2EyNjc1NDdiZSk7CgogICAgICAgICAgICAKICAgICAgICAKICAgIAogICAgICAgICAgICB2YXIgY2lyY2xlX21hcmtlcl9jZGE5MzA4MzI5MWU0ZGE4OGYxMmE4ZGFjNGVkNWRmOCA9IEwuY2lyY2xlTWFya2VyKAogICAgICAgICAgICAgICAgWzQzLjY0NTg1OTc5MDEzMjU3LC03OS40MTk1MzIwODk4ODg2Nl0sCiAgICAgICAgICAgICAgICB7CiAgImJ1YmJsaW5nTW91c2VFdmVudHMiOiB0cnVlLAogICJjb2xvciI6ICIjODAwMGZmIiwKICAiZGFzaEFycmF5IjogbnVsbCwKICAiZGFzaE9mZnNldCI6IG51bGwsCiAgImZpbGwiOiB0cnVlLAogICJmaWxsQ29sb3IiOiAiIzgwMDBmZiIsCiAgImZpbGxPcGFjaXR5IjogMC43LAogICJmaWxsUnVsZSI6ICJldmVub2RkIiwKICAibGluZUNhcCI6ICJyb3VuZCIsCiAgImxpbmVKb2luIjogInJvdW5kIiwKICAib3BhY2l0eSI6IDEuMCwKICAicmFkaXVzIjogNSwKICAic3Ryb2tlIjogdHJ1ZSwKICAid2VpZ2h0IjogMwp9CiAgICAgICAgICAgICAgICApLmFkZFRvKG1hcF81MTE2ODM2YjlmM2Y0N2UzYmQ2NDViOTRjYWRmNDQwMik7CiAgICAgICAgICAgIAogICAgCiAgICAgICAgICAgIHZhciBwb3B1cF8wN2ZkZGE1MTQ5ZTM0OThiOWU3ZDhiYmM2YzkxNmU3OCA9IEwucG9wdXAoe21heFdpZHRoOiAnMzAwJ30pOwoKICAgICAgICAgICAgCiAgICAgICAgICAgICAgICB2YXIgaHRtbF82NmQ2ODdhMGI1ZjM0OTU3YWI2ZDFlNjdiYzYwMzI1OSA9ICQoJzxkaXYgaWQ9Imh0bWxfNjZkNjg3YTBiNWYzNDk1N2FiNmQxZTY3YmM2MDMyNTkiIHN0eWxlPSJ3aWR0aDogMTAwLjAlOyBoZWlnaHQ6IDEwMC4wJTsiPkZyZW5jaCBSZXN0YXVyYW50PC9kaXY+JylbMF07CiAgICAgICAgICAgICAgICBwb3B1cF8wN2ZkZGE1MTQ5ZTM0OThiOWU3ZDhiYmM2YzkxNmU3OC5zZXRDb250ZW50KGh0bWxfNjZkNjg3YTBiNWYzNDk1N2FiNmQxZTY3YmM2MDMyNTkpOwogICAgICAgICAgICAKCiAgICAgICAgICAgIGNpcmNsZV9tYXJrZXJfY2RhOTMwODMyOTFlNGRhODhmMTJhOGRhYzRlZDVkZjguYmluZFBvcHVwKHBvcHVwXzA3ZmRkYTUxNDllMzQ5OGI5ZTdkOGJiYzZjOTE2ZTc4KTsKCiAgICAgICAgICAgIAogICAgICAgIAo8L3NjcmlwdD4=\" style=\"position:absolute;width:100%;height:100%;left:0;top:0;border:none !important;\" allowfullscreen webkitallowfullscreen mozallowfullscreen></iframe></div></div>", 
                        "text/plain": "<folium.folium.Map at 0x7f8c94c46a58>"
                    }, 
                    "output_type": "execute_result"
                }
            ], 
            "source": "markers_colors = []\nfor lat, lon, poi in zip(nv['lat'], nv['lng'], nv['categories']):\n    label = folium.Popup(str(poi) + ' Cluster ', parse_html=True)\n    folium.CircleMarker(\n        [lat, lon],\n        radius=5,\n        popup=poi,\n        color=cdict[poi],\n        fill=True,\n        fill_color=cdict[poi],\n        fill_opacity=0.7).add_to(map_clusters)\n       \nmap_clusters"
        }, 
        {
            "execution_count": null, 
            "cell_type": "code", 
            "metadata": {}, 
            "outputs": [], 
            "source": ""
        }
    ], 
    "metadata": {
        "kernelspec": {
            "display_name": "Python 3.5 with Spark", 
            "name": "python3", 
            "language": "python3"
        }, 
        "language_info": {
            "mimetype": "text/x-python", 
            "nbconvert_exporter": "python", 
            "version": "3.5.4", 
            "name": "python", 
            "file_extension": ".py", 
            "pygments_lexer": "ipython3", 
            "codemirror_mode": {
                "version": 3, 
                "name": "ipython"
            }
        }
    }, 
    "nbformat": 4
}